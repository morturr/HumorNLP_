{
 "cells": [
  {
   "cell_type": "code",
   "execution_count": 11,
   "metadata": {
    "collapsed": true
   },
   "outputs": [],
   "source": [
    "import pandas as pd\n",
    "import os\n",
    "\n",
    "USE_MODEL = 'Mistral'\n",
    "PATH = f'../{USE_MODEL}/Results'\n",
    "\n",
    "DATASETS = ['amazon', 'dadjokes', 'headlines', 'one_liners', 'yelp_reviews']\n",
    "PATH_TEMPLATE = PATH + '/{dataset}-models/'\n",
    "TABLES_PATH = PATH + '/Tables/'\n",
    "\n",
    "LOO_DATASETS = [f'loo_{dataset}' for dataset in DATASETS]\n",
    "LOO_PATH = PATH + '/leave-one-out/'"
   ]
  },
  {
   "cell_type": "code",
   "execution_count": 12,
   "outputs": [],
   "source": [
    "# LOO_EVAL = False\n",
    "LOO_EVAL = False\n",
    "\n",
    "TRAIN_DATASETS = LOO_DATASETS if LOO_EVAL else DATASETS"
   ],
   "metadata": {
    "collapsed": false,
    "pycharm": {
     "name": "#%%\n"
    }
   }
  },
  {
   "cell_type": "code",
   "execution_count": 13,
   "outputs": [
    {
     "name": "stderr",
     "output_type": "stream",
     "text": [
      "C:\\Users\\mortu\\AppData\\Local\\Temp\\ipykernel_44664\\636092915.py:14: FutureWarning: The behavior of DataFrame concatenation with empty or all-NA entries is deprecated. In a future version, this will no longer exclude empty or all-NA columns when determining the result dtypes. To retain the old behavior, exclude the relevant entries before the concat operation.\n",
      "  scores_df = pd.concat([scores_df, df])\n"
     ]
    }
   ],
   "source": [
    "# Create the score table for regular dataset\n",
    "if not LOO_EVAL:\n",
    "    scores_df = pd.DataFrame()\n",
    "    for dataset_name in TRAIN_DATASETS:\n",
    "        root_dir = PATH_TEMPLATE.format(dataset=dataset_name)\n",
    "        for _, dirs, _ in os.walk(root_dir):\n",
    "            for dir_name in dirs:\n",
    "                inner_dir = os.path.join(root_dir, dir_name)\n",
    "                score_file_path = os.path.join(inner_dir, f'{dataset_name}_scores.csv')\n",
    "                df = pd.read_csv(score_file_path)\n",
    "                # for the first df, set its columns to be the columns of the overall dataframe (scores_df)\n",
    "                if scores_df.empty:\n",
    "                    scores_df = pd.DataFrame(columns=df.columns)\n",
    "                scores_df = pd.concat([scores_df, df])"
   ],
   "metadata": {
    "collapsed": false,
    "pycharm": {
     "name": "#%%\n"
    }
   }
  },
  {
   "cell_type": "code",
   "execution_count": 14,
   "outputs": [],
   "source": [
    "# Create the score table for loo dataset (only one model per dataset)\n",
    "if LOO_EVAL:\n",
    "    scores_df = pd.DataFrame()\n",
    "    for dataset_name in TRAIN_DATASETS:\n",
    "        score_file_path = os.path.join(LOO_PATH, f'{dataset_name}_scores.csv')\n",
    "        df = pd.read_csv(score_file_path)\n",
    "        # for the first df, set its columns to be the columns of the overall dataframe (scores_df)\n",
    "        if scores_df.empty:\n",
    "            scores_df = pd.DataFrame(columns=df.columns)\n",
    "        scores_df = pd.concat([scores_df, df])"
   ],
   "metadata": {
    "collapsed": false,
    "pycharm": {
     "name": "#%%\n"
    }
   }
  },
  {
   "cell_type": "code",
   "execution_count": 16,
   "outputs": [
    {
     "name": "stderr",
     "output_type": "stream",
     "text": [
      "C:\\Users\\mortu\\AppData\\Local\\Temp\\ipykernel_44664\\874741694.py:8: FutureWarning: DataFrame.fillna with 'method' is deprecated and will raise in a future version. Use obj.ffill() or obj.bfill() instead.\n",
      "  result_df.fillna(method='ffill', axis=0, inplace=True)\n"
     ]
    }
   ],
   "source": [
    "METRICS = ['accuracy', 'f1', 'recall', 'precision']\n",
    "base_model = 'flan-t5-base'\n",
    "base_model = 'llama-2-7b'\n",
    "base_model = 'mistral-7b'\n",
    "# models_name = [glob.glob(f'{models_path}/{base_model}_on_{dataset}*')[0] for dataset in dataset_names]\n",
    "\n",
    "result_df = pd.read_excel(TABLES_PATH + 'result_template.xlsx')\n",
    "result_df.fillna(method='ffill', axis=0, inplace=True)\n",
    "result_df.set_index(['metric', 'model', 'trained on'], inplace=True)"
   ],
   "metadata": {
    "collapsed": false,
    "pycharm": {
     "name": "#%%\n"
    }
   }
  },
  {
   "cell_type": "code",
   "execution_count": 17,
   "outputs": [],
   "source": [
    "# calculate metrics' mean and std for all pairs of datasets\n",
    "for train_dataset in TRAIN_DATASETS:\n",
    "    metrics_dict = {metric_name: {} for metric_name in METRICS}\n",
    "\n",
    "    for eval_dataset in DATASETS:\n",
    "        df = scores_df[(scores_df['train_dataset'] == train_dataset) & (scores_df['evaluate_dataset'] == eval_dataset)]\n",
    "        # print(train_dataset, eval_dataset)\n",
    "        for metric in METRICS:\n",
    "            # print(metric)\n",
    "            values = df[metric]\n",
    "            mean, std = values.mean(), values.std()\n",
    "            metrics_dict[metric][eval_dataset] = float(\"%.4f\" % mean)\n",
    "            # print(mean, std)\n",
    "\n",
    "    for metric in METRICS:\n",
    "        result_df.loc[(metric, base_model, train_dataset)] = metrics_dict[metric]"
   ],
   "metadata": {
    "collapsed": false,
    "pycharm": {
     "name": "#%%\n"
    }
   }
  },
  {
   "cell_type": "code",
   "execution_count": 18,
   "outputs": [],
   "source": [
    "from datetime import datetime\n",
    "# save performance to output file\n",
    "date = datetime.now().date()\n",
    "i = 1\n",
    "while os.path.exists(TABLES_PATH + f'humor_results_{date}_{i}*.xlsx'):\n",
    "    i += 1\n",
    "\n",
    "result_df.to_excel(TABLES_PATH + f'humor_results_{date}_{i}.xlsx')"
   ],
   "metadata": {
    "collapsed": false,
    "pycharm": {
     "name": "#%%\n"
    }
   }
  },
  {
   "cell_type": "code",
   "execution_count": null,
   "outputs": [],
   "source": [],
   "metadata": {
    "collapsed": false,
    "pycharm": {
     "name": "#%%\n"
    }
   }
  }
 ],
 "metadata": {
  "kernelspec": {
   "display_name": "Python 3",
   "language": "python",
   "name": "python3"
  },
  "language_info": {
   "codemirror_mode": {
    "name": "ipython",
    "version": 2
   },
   "file_extension": ".py",
   "mimetype": "text/x-python",
   "name": "python",
   "nbconvert_exporter": "python",
   "pygments_lexer": "ipython2",
   "version": "2.7.6"
  }
 },
 "nbformat": 4,
 "nbformat_minor": 0
}