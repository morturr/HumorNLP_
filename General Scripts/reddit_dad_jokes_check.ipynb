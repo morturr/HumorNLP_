{
 "cells": [
  {
   "cell_type": "code",
   "execution_count": 1,
   "outputs": [],
   "source": [
    "from unittest.mock import inplace\n",
    "\n",
    "import pandas as pd\n",
    "import numpy as np\n",
    "import random"
   ],
   "metadata": {
    "collapsed": false,
    "pycharm": {
     "name": "#%%\n"
    }
   }
  },
  {
   "cell_type": "code",
   "execution_count": 2,
   "outputs": [],
   "source": [
    "path = '../Data/new_humor_datasets/reddit_dadjokes/'\n",
    "df_dadjokes = pd.read_csv(path + 'reddit_dadjokes_not_jokes_original.csv')"
   ],
   "metadata": {
    "collapsed": false,
    "pycharm": {
     "name": "#%%\n"
    }
   }
  },
  {
   "cell_type": "code",
   "execution_count": 8,
   "outputs": [],
   "source": [
    "# sample 100 indices to check\n",
    "curr_index = len(df_dadjokes) - 1\n",
    "last_batch_indices = []\n",
    "batch_size = 30\n",
    "while curr_index > 200: # estimated starting index (probably 195)\n",
    "    last_batch_indices.append(curr_index)\n",
    "    curr_index -= batch_size\n",
    "\n",
    "num_batches = len(last_batch_indices)\n",
    "\n",
    "batches_to_check = random.sample(last_batch_indices, 100)"
   ],
   "metadata": {
    "collapsed": false,
    "pycharm": {
     "name": "#%%\n"
    }
   }
  },
  {
   "cell_type": "code",
   "execution_count": 10,
   "outputs": [],
   "source": [
    "df_batches = df_dadjokes.iloc[batches_to_check]\n",
    "df_batches.to_csv(path + 'batches_to_check.csv', index=False)"
   ],
   "metadata": {
    "collapsed": false,
    "pycharm": {
     "name": "#%%\n"
    }
   }
  },
  {
   "cell_type": "markdown",
   "source": [
    "# Clean Edited Jokes"
   ],
   "metadata": {
    "collapsed": false,
    "pycharm": {
     "name": "#%% md\n"
    }
   }
  },
  {
   "cell_type": "code",
   "execution_count": 5,
   "outputs": [],
   "source": [
    "df_dadjokes['check'] = df_dadjokes.apply(lambda row: row['joke'] in row['edited_joke'], axis=1)"
   ],
   "metadata": {
    "collapsed": false,
    "pycharm": {
     "name": "#%%\n"
    }
   }
  },
  {
   "cell_type": "code",
   "execution_count": 6,
   "outputs": [],
   "source": [
    "df_to_check = df_dadjokes[df_dadjokes['check']]"
   ],
   "metadata": {
    "collapsed": false,
    "pycharm": {
     "name": "#%%\n"
    }
   }
  },
  {
   "cell_type": "code",
   "execution_count": 9,
   "outputs": [],
   "source": [
    "df_to_check.to_csv(path + 'jokes_to_edit.csv', index=False)"
   ],
   "metadata": {
    "collapsed": false,
    "pycharm": {
     "name": "#%%\n"
    }
   }
  },
  {
   "cell_type": "code",
   "execution_count": 25,
   "outputs": [],
   "source": [
    "# samples that have joke \\n - edited joke\n",
    "batch1 = df_to_check.copy(deep=True).iloc[:28]\n",
    "batch1_edited = batch1\n",
    "batch1_edited['edited_joke'] = batch1_edited['edited_joke'].apply(lambda s: s[s.index('- ') + len('- '):])"
   ],
   "metadata": {
    "collapsed": false,
    "pycharm": {
     "name": "#%%\n"
    }
   }
  },
  {
   "cell_type": "code",
   "execution_count": 27,
   "outputs": [],
   "source": [
    "# samples that have **Original** joke **Non-Humorous** edited joke\n",
    "batch2 = df_to_check.copy(deep=True).iloc[30:54]\n",
    "batch2_edited = batch2\n",
    "batch2_edited['edited_joke'] = batch2_edited['edited_joke'].apply(lambda s: s[s.index('**Non-humorous**: ') + len('**Non-humorous**: '):])"
   ],
   "metadata": {
    "collapsed": false,
    "pycharm": {
     "name": "#%%\n"
    }
   }
  },
  {
   "cell_type": "code",
   "execution_count": 28,
   "outputs": [],
   "source": [
    "# samples that have joke \\n - edited joke\n",
    "batch3 = df_to_check.copy(deep=True).iloc[55:70]\n",
    "batch3_edited = batch3\n",
    "batch3_edited['edited_joke'] = batch3_edited['edited_joke'].apply(lambda s: s[s.index('- ') + len('- '):])"
   ],
   "metadata": {
    "collapsed": false,
    "pycharm": {
     "name": "#%%\n"
    }
   }
  },
  {
   "cell_type": "code",
   "execution_count": 29,
   "outputs": [],
   "source": [
    "# samples that have joke \\n -> edited joke\n",
    "batch4 = df_to_check.copy(deep=True).iloc[73:]\n",
    "batch4_edited = batch4\n",
    "batch4_edited['edited_joke'] = batch4_edited['edited_joke'].apply(lambda s: s[s.index('-> ') + len('-> '):])"
   ],
   "metadata": {
    "collapsed": false,
    "pycharm": {
     "name": "#%%\n"
    }
   }
  },
  {
   "cell_type": "code",
   "execution_count": 31,
   "outputs": [],
   "source": [
    "df_to_check.iloc[:28] = batch1_edited\n",
    "df_to_check.iloc[30:54] = batch2_edited\n",
    "df_to_check.iloc[55:70] = batch3_edited\n",
    "df_to_check.iloc[73:] = batch4_edited\n"
   ],
   "metadata": {
    "collapsed": false,
    "pycharm": {
     "name": "#%%\n"
    }
   }
  },
  {
   "cell_type": "code",
   "execution_count": 32,
   "outputs": [],
   "source": [
    "df_dadjokes[df_dadjokes['check']] = df_to_check"
   ],
   "metadata": {
    "collapsed": false,
    "pycharm": {
     "name": "#%%\n"
    }
   }
  },
  {
   "cell_type": "code",
   "execution_count": 34,
   "outputs": [],
   "source": [
    "df_dadjokes.drop('check', axis=1, inplace=True)"
   ],
   "metadata": {
    "collapsed": false,
    "pycharm": {
     "name": "#%%\n"
    }
   }
  },
  {
   "cell_type": "code",
   "execution_count": 35,
   "outputs": [],
   "source": [
    "df_dadjokes.to_csv(path + 'reddit_dadjokes_not_jokes.csv', index=False)"
   ],
   "metadata": {
    "collapsed": false,
    "pycharm": {
     "name": "#%%\n"
    }
   }
  },
  {
   "cell_type": "code",
   "execution_count": null,
   "outputs": [],
   "source": [],
   "metadata": {
    "collapsed": false,
    "pycharm": {
     "name": "#%%\n"
    }
   }
  }
 ],
 "metadata": {
  "kernelspec": {
   "display_name": "Python 3",
   "language": "python",
   "name": "python3"
  },
  "language_info": {
   "codemirror_mode": {
    "name": "ipython",
    "version": 2
   },
   "file_extension": ".py",
   "mimetype": "text/x-python",
   "name": "python",
   "nbconvert_exporter": "python",
   "pygments_lexer": "ipython2",
   "version": "2.7.6"
  }
 },
 "nbformat": 4,
 "nbformat_minor": 0
}