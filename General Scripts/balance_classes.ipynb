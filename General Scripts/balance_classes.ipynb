{
 "cells": [
  {
   "cell_type": "code",
   "execution_count": 1,
   "metadata": {
    "collapsed": true
   },
   "outputs": [],
   "source": [
    "import pandas as pd\n",
    "import numpy as np\n",
    "import random"
   ]
  },
  {
   "cell_type": "code",
   "execution_count": 43,
   "outputs": [],
   "source": [
    "def balance_positive_negative_length(df_positive, df_negative, larger):\n",
    "\n",
    "    df_larger = pd.DataFrame(df_positive['text_length']) if larger == 'positive' else pd.DataFrame(df_negative['text_length'])\n",
    "\n",
    "    df_smaller = pd.DataFrame(df_negative['text_length']) if larger == 'positive' else pd.DataFrame(df_positive['text_length'])\n",
    "\n",
    "    df_larger['original_index'] = range(len(df_larger))\n",
    "    df_smaller['original_index'] = range(len(df_smaller))\n",
    "\n",
    "    sampled_indices = []\n",
    "\n",
    "    for length in df_smaller['text_length']:\n",
    "        # Find indices in negative class with text length closest to 'pos_length'\n",
    "        closest_idx = (np.abs(df_larger['text_length'] - length)).argmin()\n",
    "        original_idx = df_larger.iloc[closest_idx]['original_index']\n",
    "        sampled_indices.append(original_idx)\n",
    "        # Drop the selected index to avoid sampling it again\n",
    "        df_larger = df_larger.drop(closest_idx)\n",
    "        df_larger = df_larger.reset_index(drop=True)\n",
    "\n",
    "    # Filter negative class DataFrame based on sampled indices\n",
    "    if larger == 'positive':\n",
    "        balanced_df = df_positive.iloc[sampled_indices]\n",
    "    else:\n",
    "        balanced_df = df_negative.iloc[sampled_indices]\n",
    "\n",
    "    return balanced_df"
   ],
   "metadata": {
    "collapsed": false,
    "pycharm": {
     "name": "#%%\n"
    }
   }
  },
  {
   "cell_type": "code",
   "execution_count": 47,
   "outputs": [],
   "source": "path = '../Data/new_humor_datasets/original/'",
   "metadata": {
    "collapsed": false,
    "pycharm": {
     "name": "#%%\n"
    }
   }
  },
  {
   "cell_type": "markdown",
   "source": [
    "### Balance Yelp Reviews (drop negatives)"
   ],
   "metadata": {
    "collapsed": false,
    "pycharm": {
     "name": "#%% md\n"
    }
   }
  },
  {
   "cell_type": "code",
   "execution_count": null,
   "outputs": [],
   "source": [
    "yelp_path = path + 'yelp_reviews/'\n",
    "df_yelp_funny = pd.read_csv(yelp_path + 'all_funny_reviews_over_5.csv')\n",
    "df_yelp_unfunny = pd.read_csv(yelp_path + 'unfunny_reviews_all.csv')"
   ],
   "metadata": {
    "collapsed": false,
    "pycharm": {
     "name": "#%%\n"
    }
   }
  },
  {
   "cell_type": "code",
   "execution_count": 24,
   "outputs": [],
   "source": [
    "# choose only samples with funny score >= 10 and length <= 1024\n",
    "df_yelp_funny = df_yelp_funny[df_yelp_funny['funny'] >= 10]\n",
    "df_yelp_funny = df_yelp_funny[df_yelp_funny['text'].apply(lambda s: len(s) <= 1024)]"
   ],
   "metadata": {
    "collapsed": false,
    "pycharm": {
     "name": "#%%\n"
    }
   }
  },
  {
   "cell_type": "code",
   "execution_count": 25,
   "outputs": [],
   "source": [
    "# filter also unfunny df to samples with length <= 1024\n",
    "df_yelp_unfunny = df_yelp_unfunny[df_yelp_unfunny['text'].apply(lambda s: len(s) <= 1024)]"
   ],
   "metadata": {
    "collapsed": false,
    "pycharm": {
     "name": "#%%\n"
    }
   }
  },
  {
   "cell_type": "code",
   "execution_count": 26,
   "outputs": [],
   "source": [
    "# reset indices\n",
    "df_yelp_funny = df_yelp_funny.reset_index(drop=True)\n",
    "df_yelp_unfunny = df_yelp_unfunny.reset_index(drop=True)"
   ],
   "metadata": {
    "collapsed": false,
    "pycharm": {
     "name": "#%%\n"
    }
   }
  },
  {
   "cell_type": "code",
   "execution_count": 27,
   "outputs": [],
   "source": [
    "df_yelp_funny['text_length'] = df_yelp_funny['text'].apply(lambda s: len(s))\n",
    "df_yelp_unfunny['text_length'] = df_yelp_unfunny['text'].apply(lambda s: len(s))"
   ],
   "metadata": {
    "collapsed": false,
    "pycharm": {
     "name": "#%%\n"
    }
   }
  },
  {
   "cell_type": "code",
   "execution_count": 28,
   "outputs": [
    {
     "data": {
      "text/plain": "count    9708.000000\nmean      623.351051\nstd       252.115496\nmin         1.000000\n25%       424.000000\n50%       649.000000\n75%       840.000000\nmax      1024.000000\nName: text_length, dtype: float64"
     },
     "execution_count": 28,
     "metadata": {},
     "output_type": "execute_result"
    }
   ],
   "source": [
    "df_yelp_funny['text_length'].describe()"
   ],
   "metadata": {
    "collapsed": false,
    "pycharm": {
     "name": "#%%\n"
    }
   }
  },
  {
   "cell_type": "code",
   "execution_count": 29,
   "outputs": [
    {
     "data": {
      "text/plain": "count    230647.000000\nmean        389.647873\nstd         233.568398\nmin           1.000000\n25%         201.000000\n50%         334.000000\n75%         535.000000\nmax        1024.000000\nName: text_length, dtype: float64"
     },
     "execution_count": 29,
     "metadata": {},
     "output_type": "execute_result"
    }
   ],
   "source": [
    "df_yelp_unfunny['text_length'].describe()"
   ],
   "metadata": {
    "collapsed": false,
    "pycharm": {
     "name": "#%%\n"
    }
   }
  },
  {
   "cell_type": "code",
   "execution_count": 44,
   "outputs": [],
   "source": [
    "balanced_df_yelp_unfunny = balance_positive_negative_length(df_yelp_funny, df_yelp_unfunny, larger='negative')\n",
    "balanced_df_yelp_unfunny = balanced_df_yelp_unfunny.sample(frac=1, random_state=0, ignore_index=True)"
   ],
   "metadata": {
    "collapsed": false,
    "pycharm": {
     "name": "#%%\n"
    }
   }
  },
  {
   "cell_type": "code",
   "execution_count": 45,
   "outputs": [
    {
     "data": {
      "text/plain": "count    9708.000000\nmean      623.351154\nstd       252.115242\nmin         1.000000\n25%       424.000000\n50%       649.000000\n75%       840.000000\nmax      1024.000000\nName: text_length, dtype: float64"
     },
     "execution_count": 45,
     "metadata": {},
     "output_type": "execute_result"
    }
   ],
   "source": [
    "balanced_df_yelp_unfunny['text_length'].describe()"
   ],
   "metadata": {
    "collapsed": false,
    "pycharm": {
     "name": "#%%\n"
    }
   }
  },
  {
   "cell_type": "code",
   "execution_count": 41,
   "outputs": [],
   "source": [
    "df_yelp = pd.concat([df_yelp_funny, balanced_df_yelp_unfunny], ignore_index=True)\n",
    "df_yelp['id'] = range(len(df_yelp))\n",
    "df_yelp['label'] = df_yelp['funny'].apply(lambda funny_score: 1 if funny_score > 0 else 0)\n",
    "df_yelp = df_yelp.sample(frac=1, random_state=0, ignore_index=True)\n",
    "df_yelp.to_csv(yelp_path + 'data.csv', index=False)"
   ],
   "metadata": {
    "collapsed": false,
    "pycharm": {
     "name": "#%%\n"
    }
   }
  },
  {
   "cell_type": "markdown",
   "source": [
    "### Balance Reddit Dad Jokes (drop positives)"
   ],
   "metadata": {
    "collapsed": false,
    "pycharm": {
     "name": "#%% md\n"
    }
   }
  },
  {
   "cell_type": "code",
   "execution_count": 49,
   "outputs": [],
   "source": [
    "dadjokes_path = path + 'reddit_dadjokes/'\n",
    "df_dadjokes_funny = pd.read_csv(dadjokes_path + 'reddit_dadjokes.csv')\n",
    "df_dadjokes_unfunny = pd.read_csv(dadjokes_path + 'reddit_dadjokes_not_jokes.csv')"
   ],
   "metadata": {
    "collapsed": false,
    "pycharm": {
     "name": "#%%\n"
    }
   }
  },
  {
   "cell_type": "code",
   "execution_count": 50,
   "outputs": [],
   "source": [
    "# filter jokes by score >= 20\n",
    "df_dadjokes_funny = df_dadjokes_funny[df_dadjokes_funny['score'] >= 20]"
   ],
   "metadata": {
    "collapsed": false,
    "pycharm": {
     "name": "#%%\n"
    }
   }
  },
  {
   "cell_type": "code",
   "execution_count": 51,
   "outputs": [],
   "source": [
    "# reset indices\n",
    "df_dadjokes_funny = df_dadjokes_funny.reset_index(drop=True)\n",
    "df_dadjokes_unfunny = df_dadjokes_unfunny.reset_index(drop=True)"
   ],
   "metadata": {
    "collapsed": false,
    "pycharm": {
     "name": "#%%\n"
    }
   }
  },
  {
   "cell_type": "code",
   "execution_count": 52,
   "outputs": [],
   "source": [
    "df_dadjokes_funny['text_length'] = df_dadjokes_funny['joke'].apply(lambda s: len(s))\n",
    "df_dadjokes_unfunny['text_length'] = df_dadjokes_unfunny['edited_joke'].apply(lambda s: len(s))"
   ],
   "metadata": {
    "collapsed": false,
    "pycharm": {
     "name": "#%%\n"
    }
   }
  },
  {
   "cell_type": "code",
   "execution_count": 53,
   "outputs": [
    {
     "data": {
      "text/plain": "count    23068.000000\nmean       136.991677\nstd        260.883307\nmin         12.000000\n25%         65.000000\n50%         90.000000\n75%        142.000000\nmax      24538.000000\nName: text_length, dtype: float64"
     },
     "execution_count": 53,
     "metadata": {},
     "output_type": "execute_result"
    }
   ],
   "source": [
    "df_dadjokes_funny['text_length'].describe()"
   ],
   "metadata": {
    "collapsed": false,
    "pycharm": {
     "name": "#%%\n"
    }
   }
  },
  {
   "cell_type": "code",
   "execution_count": 54,
   "outputs": [
    {
     "data": {
      "text/plain": "count    11024.000000\nmean        85.919176\nstd         25.980298\nmin          5.000000\n25%         69.000000\n50%         82.000000\n75%         99.000000\nmax        405.000000\nName: text_length, dtype: float64"
     },
     "execution_count": 54,
     "metadata": {},
     "output_type": "execute_result"
    }
   ],
   "source": [
    "df_dadjokes_unfunny['text_length'].describe()"
   ],
   "metadata": {
    "collapsed": false,
    "pycharm": {
     "name": "#%%\n"
    }
   }
  },
  {
   "cell_type": "code",
   "execution_count": 55,
   "outputs": [],
   "source": [
    "balanced_df_dadjokes_funny = balance_positive_negative_length(df_dadjokes_funny, df_dadjokes_unfunny, larger='positive')\n",
    "balanced_df_dadjokes_funny = balanced_df_dadjokes_funny.sample(frac=1, random_state=0, ignore_index=True)"
   ],
   "metadata": {
    "collapsed": false,
    "pycharm": {
     "name": "#%%\n"
    }
   }
  },
  {
   "cell_type": "code",
   "execution_count": 58,
   "outputs": [
    {
     "data": {
      "text/plain": "count    11024.000000\nmean        85.919358\nstd         25.978353\nmin         12.000000\n25%         69.000000\n50%         82.000000\n75%         99.000000\nmax        405.000000\nName: text_length, dtype: float64"
     },
     "execution_count": 58,
     "metadata": {},
     "output_type": "execute_result"
    }
   ],
   "source": [
    "balanced_df_dadjokes_funny['text_length'].describe()"
   ],
   "metadata": {
    "collapsed": false,
    "pycharm": {
     "name": "#%%\n"
    }
   }
  },
  {
   "cell_type": "code",
   "execution_count": 60,
   "outputs": [],
   "source": [
    "df_dadjokes_unfunny.drop(['joke', 'id', 'num_tokens'], axis=1, inplace=True)"
   ],
   "metadata": {
    "collapsed": false,
    "pycharm": {
     "name": "#%%\n"
    }
   }
  },
  {
   "cell_type": "code",
   "execution_count": 61,
   "outputs": [],
   "source": [
    "df_dadjokes_unfunny = df_dadjokes_unfunny.rename(columns={'edited_joke': 'text'})\n",
    "balanced_df_dadjokes_funny = balanced_df_dadjokes_funny.rename(columns={'joke': 'text'})\n",
    "df_dadjokes_unfunny = df_dadjokes_unfunny[['author', 'url', 'date', 'text', 'text_length', 'score']]\n",
    "balanced_df_dadjokes_funny = balanced_df_dadjokes_funny[['author', 'url', 'date', 'text', 'text_length', 'score']]"
   ],
   "metadata": {
    "collapsed": false,
    "pycharm": {
     "name": "#%%\n"
    }
   }
  },
  {
   "cell_type": "code",
   "execution_count": 62,
   "outputs": [],
   "source": [
    "df_dadjokes = pd.concat([balanced_df_dadjokes_funny, df_dadjokes_unfunny], ignore_index=True)\n",
    "df_dadjokes['id'] = range(len(df_dadjokes))\n",
    "df_dadjokes['label'] = df_dadjokes['score'].apply(lambda funny_score: 1 if funny_score >= 20 else 0)\n",
    "df_dadjokes = df_dadjokes.sample(frac=1, random_state=0, ignore_index=True)\n",
    "df_dadjokes.to_csv(dadjokes_path + 'data.csv', index=False)"
   ],
   "metadata": {
    "collapsed": false,
    "pycharm": {
     "name": "#%%\n"
    }
   }
  }
 ],
 "metadata": {
  "kernelspec": {
   "display_name": "Python 3",
   "language": "python",
   "name": "python3"
  },
  "language_info": {
   "codemirror_mode": {
    "name": "ipython",
    "version": 2
   },
   "file_extension": ".py",
   "mimetype": "text/x-python",
   "name": "python",
   "nbconvert_exporter": "python",
   "pygments_lexer": "ipython2",
   "version": "2.7.6"
  }
 },
 "nbformat": 4,
 "nbformat_minor": 0
}
