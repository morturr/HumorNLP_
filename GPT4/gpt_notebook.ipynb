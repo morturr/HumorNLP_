{
 "cells": [
  {
   "cell_type": "code",
   "execution_count": 25,
   "metadata": {
    "pycharm": {
     "name": "#%%\n"
    }
   },
   "outputs": [],
   "source": [
    "from openai import OpenAI\n",
    "import tiktoken\n",
    "import pandas as pd\n",
    "import numpy as np"
   ]
  },
  {
   "cell_type": "code",
   "execution_count": 26,
   "metadata": {
    "pycharm": {
     "name": "#%%\n"
    }
   },
   "outputs": [],
   "source": [
    "# creating gpt client\n",
    "#client = OpenAI()\n",
    "models = {'gpt-3.5-turbo': 'gpt-3.5-turbo',\n",
    "          'gpt-4-turbo-1': 'gpt-4-turbo-preview',\n",
    "          'gpt-4-turbo-2': 'gpt-4-1106-preview'}\n",
    "\n",
    "model_name = models['gpt-4-turbo-2']"
   ]
  },
  {
   "cell_type": "code",
   "execution_count": 27,
   "outputs": [],
   "source": [
    "MAX_INPUT_TOKENS = 3800\n",
    "NUM_OF_EXAMPLES = 5\n",
    "\n",
    "path = '../Data/new_humor_datasets/reddit_dadjokes/'"
   ],
   "metadata": {
    "collapsed": false,
    "pycharm": {
     "name": "#%%\n"
    }
   }
  },
  {
   "cell_type": "code",
   "execution_count": 28,
   "outputs": [],
   "source": [
    "# create examples and instruction to gpt request\n",
    "examples_instructions_prompt = \\\n",
    "    \"###\" \\\n",
    "    \"1. input: 'A grizzly kept talking to me and annoyed me He was unbearable'\" \\\n",
    "    \"output: 'A grizzly kept talking to me and annoyed me He was intolerable'\" \\\n",
    "    \"2. input: 'For Christmas, I requested my family not to give me duplicates of the same item. Now I anticipate \" \\\n",
    "    \"receiving the missing sock next time.' \" \\\n",
    "    \"output: 'For Christmas, I requested my family not to give me duplicates of the same item. Now I anticipate \" \\\n",
    "    \"receiving the other book next time.' \" \\\n",
    "    \"3. input: 'My son’s fourth birthday was today, but when he came to see me I didn’t recognize him at first. I’d \" \\\n",
    "    \"never seen him be 4.' \" \\\n",
    "    \"output: My son’s fourth birthday was today, but when he came to see me I didn’t recognize him at first. He grew \" \\\n",
    "    \"up so fast. \" \\\n",
    "    \"4. input: 'I asked my friend if he liked Nickleback. He told me that he never gave me any money'\" \\\n",
    "    \"output: 'I asked my friend if he liked Nickleback. He told me that he prefers Kings of Leon.'\" \\\n",
    "    \"5. input: 'I went to a bookstore and asked where the self-help section was The clerk said that if she told me, \" \\\n",
    "    \"it would defeat the purpose.' \" \\\n",
    "    \"output: 'I went to a bookstore and asked where the self-help section was The clerk said it was in the third \" \\\n",
    "    \"aisle .' \" \\\n",
    "    \"###\" \\\n",
    "    \"Using the examples in ### markers, please change some of the words in the following sentences to make\" \\\n",
    "    \" them non humorous. You can change anything but please change the least you can:\\n\"\n"
   ],
   "metadata": {
    "collapsed": false,
    "pycharm": {
     "name": "#%%\n"
    }
   }
  },
  {
   "cell_type": "code",
   "execution_count": 29,
   "outputs": [],
   "source": [
    "# function for calculating num of tokens of sentence\n",
    "def num_tokens_from_string(string: str, model_name: str) -> int:\n",
    "    \"\"\"Returns the number of tokens in a text string.\"\"\"\n",
    "    encoding = tiktoken.encoding_for_model(model_name)\n",
    "    num_tokens = len(encoding.encode(string))\n",
    "    return num_tokens"
   ],
   "metadata": {
    "collapsed": false,
    "pycharm": {
     "name": "#%%\n"
    }
   }
  },
  {
   "cell_type": "code",
   "execution_count": 30,
   "outputs": [],
   "source": [
    "# load Reddit Dad Jokes dataset (filtered and with id)\n",
    "df_dadjokes = pd.read_csv(path + 'reddit_dadjokes_with_id.csv')"
   ],
   "metadata": {
    "collapsed": false,
    "pycharm": {
     "name": "#%%\n"
    }
   }
  },
  {
   "cell_type": "code",
   "execution_count": 31,
   "outputs": [],
   "source": [
    "# get only 1 score samples\n",
    "df_dadjokes = df_dadjokes[df_dadjokes.score == 1]"
   ],
   "metadata": {
    "collapsed": false,
    "pycharm": {
     "name": "#%%\n"
    }
   }
  },
  {
   "cell_type": "code",
   "execution_count": 33,
   "outputs": [],
   "source": [
    "lambda_num_tokens = lambda s: num_tokens_from_string(s, model_name)\n",
    "df_dadjokes['num_tokens'] = df_dadjokes['joke'].apply(lambda_num_tokens)"
   ],
   "metadata": {
    "collapsed": false,
    "pycharm": {
     "name": "#%%\n"
    }
   }
  },
  {
   "cell_type": "code",
   "execution_count": 69,
   "outputs": [],
   "source": [
    "# filter very long jokes\n",
    "df_dadjokes = df_dadjokes[df_dadjokes['num_tokens'] < 500]"
   ],
   "metadata": {
    "collapsed": false,
    "pycharm": {
     "name": "#%%\n"
    }
   }
  },
  {
   "cell_type": "code",
   "execution_count": 92,
   "outputs": [],
   "source": [
    "def get_next_input(df, index):\n",
    "    samples_count = 150\n",
    "    df_for_input = df.iloc[index:index + samples_count]\n",
    "    input_tokens_count = np.sum(df_for_input['num_tokens'])\n",
    "\n",
    "    while input_tokens_count > MAX_INPUT_TOKENS:\n",
    "        samples_count -= 10\n",
    "        df_for_input = df_for_input.iloc[:samples_count]\n",
    "        input_tokens_count = np.sum(df_for_input['num_tokens'])\n",
    "\n",
    "    index += samples_count\n",
    "    return df_for_input, index"
   ],
   "metadata": {
    "collapsed": false,
    "pycharm": {
     "name": "#%%\n"
    }
   }
  },
  {
   "cell_type": "code",
   "execution_count": 71,
   "outputs": [],
   "source": [
    "# print(f'average num of tokens per sample = {np.mean(df_dadjokes.num_tokens)}')\n",
    "# print(f'overall samples tokens per 10K samples = {10000 * np.mean(df_dadjokes.num_tokens)}')"
   ],
   "metadata": {
    "collapsed": false,
    "pycharm": {
     "name": "#%%\n"
    }
   }
  },
  {
   "cell_type": "code",
   "execution_count": 84,
   "outputs": [],
   "source": [
    "# check if file exists\n",
    "from os.path import exists\n",
    "not_jokes_filename = 'reddit_dadjokes_not_jokes.csv'\n",
    "if exists(path + not_jokes_filename):\n",
    "    df_not_jokes = pd.read_csv(path + not_jokes_filename)\n",
    "else:\n",
    "    df_not_jokes = pd.DataFrame(columns=df_dadjokes.columns)\n",
    "    df_not_jokes['edited_joke'] = None"
   ],
   "metadata": {
    "collapsed": false,
    "pycharm": {
     "name": "#%%\n"
    }
   }
  },
  {
   "cell_type": "code",
   "execution_count": 73,
   "outputs": [],
   "source": [
    "curr_index = len(df_not_jokes)"
   ],
   "metadata": {
    "collapsed": false,
    "pycharm": {
     "name": "#%%\n"
    }
   }
  },
  {
   "cell_type": "code",
   "execution_count": 77,
   "outputs": [
    {
     "name": "stdout",
     "output_type": "stream",
     "text": [
      "0 What did the first ant say to the second ant after he farted? It's not me, it's a coincidence.\n",
      "1 What time did Sean Connery normally arrive at Wimbledon? Around ten.\n",
      "2 Tell your young children that you bought them wet wipes. This way it will help to clean them whenever they use the toilet.\n",
      "3 What does Forrest Gump suggest we should name the next generation? A new name.\n",
      "4 What sort of music do people listen to while wrapping presents? Instrumental.\n",
      "5 Someone threw a bunch of herbs in my face. Now I’m lightly dusted with spices.\n",
      "6 How do you change the number one into a word? Just add a g to make it gone.\n",
      "7 What do you say when someone is relaxing in bed? They are resting.\n",
      "8 Christmas present: I asked my family not to give me two of the same kind. So now I look forward to getting a different item next time.\n",
      "9 Why did the old man fall into the well? Because he wasn't looking where he was going.\n",
      "10 What did Yoda say when he saw a clear picture? This is high definition.\n",
      "11 Where do people discuss shoes while they wait for trains? At the bench.\n",
      "12 Why do astronomers seem distracted? They are focused on distant objects.\n",
      "13 How did the farmer find his wife? He went looking for her.\n",
      "14 What do you call a person who repeatedly passes gas? Inconsiderate.\n",
      "15 Why didn't the apostles follow Jesus after their disagreement? They went their separate ways.\n",
      "16 My son’s fourth birthday was today, but when he came to see me I didn’t recognize him momentarily. He had changed since I last saw him.\n",
      "17 Convertibles are different from other cars; they don't have roofs.\n",
      "18 NASA wants you to help with their research. Dad is looking for any excuse to play golf, saying \"say no more.\"\n",
      "19 Why can’t dinosaurs do much? Because they have been extinct for millions of years.\n",
      "20 As we were taking out the trash, I mentioned to my son, \"There’s no formal training for waste collectors.\" He responded uninterestedly.\n",
      "21 What did Sherlock Holmes deduce when he found some cheese at a crime scene? It's a clue, Watson.\n",
      "22 There was this clinic for amputees that was short on resources. They had to find alternative solutions.\n",
      "23 Did you hear about the woman in Brazil who was mistakenly found guilty? It was an unfortunate error within the justice system.\n",
      "24 It's very dark here! We need better lighting.\n",
      "25 It's been a while since I played catch with my kid. He still needs to practice his stance.\n",
      "26 My wife saw me applying a home remedy to a minor eye infection. She wasn't interested in the joke.\n",
      "27 My stainless steel started showing signs of wear. It must've been a low-grade material.\n",
      "28 When did the man wake up? At the break of dawn.\n",
      "29 What do conspiracy theorists and Excel users have in common? They both organize data.\n"
     ]
    }
   ],
   "source": [
    "# create series from completion output\n",
    "def parse_response(response):\n",
    "# response = completion.choices[0].message.content\n",
    "    start_joke_idx = NUM_OF_EXAMPLES + 1\n",
    "    end_joke_idx = NUM_OF_EXAMPLES + len(df_for_input)\n",
    "    edited_jokes = []\n",
    "    for i in range(start_joke_idx, end_joke_idx + 1):\n",
    "        if i == end_joke_idx: # this is the last joke special case\n",
    "            edited_joke = response[:]\n",
    "        else:\n",
    "            index_next_joke = response.index(f'{i+1}.')\n",
    "            edited_joke = response[:index_next_joke]\n",
    "            response = response[index_next_joke:]\n",
    "\n",
    "        edited_joke = edited_joke[edited_joke.index(f'{i}. ') + 3:].strip() # remove 'i. ' from the joke\n",
    "        edited_jokes.append(edited_joke)\n",
    "\n",
    "    for i, joke in enumerate(edited_jokes):\n",
    "        print(i, joke)\n",
    "    edited_jokes_series = pd.Series(edited_jokes, name='edited_joke')\n",
    "\n",
    "    return edited_jokes_series"
   ],
   "metadata": {
    "collapsed": false,
    "pycharm": {
     "name": "#%%\n"
    }
   }
  },
  {
   "cell_type": "code",
   "execution_count": 91,
   "outputs": [],
   "source": [
    "# add series as column to df_for_input\n",
    "def save_samples(df_for_input, edited_jokes_series, df_not_jokes):\n",
    "    df_to_output = pd.concat([df_for_input.reset_index(drop=True), edited_jokes_series], axis=1, ignore_index=True)\n",
    "    df_to_output.columns = df_not_jokes.columns\n",
    "\n",
    "    # append to df_not_jokes and save\n",
    "    df_not_jokes = pd.concat([df_not_jokes, df_to_output], axis=0, ignore_index=True)\n",
    "    df_not_jokes.to_csv(path + not_jokes_filename, index=False)\n",
    "\n",
    "    return df_not_jokes"
   ],
   "metadata": {
    "collapsed": false,
    "pycharm": {
     "name": "#%%\n"
    }
   }
  },
  {
   "cell_type": "code",
   "execution_count": 74,
   "outputs": [
    {
     "name": "stdout",
     "output_type": "stream",
     "text": [
      "6. What did the first ant say to the second ant after he farted? It's not me, it's *deodorant*\n",
      "7. What time did Sean Connery normally make it to Wimbledon? Tennish\n",
      "8. Tell your young children that you bought them edible toilet paper. This way it will wipe their butt for them whenever they poop. I told this to my kids years ago when we (parents) were having to wipe their butts for them after they pooped. They thought it was very funny, they were about 6 &amp; 7 years old at the time.\n",
      "9. What does Forrest Gump think we should name the next generation? Gen A\n",
      "10. What sort of music does cellophane play? Wrap\n",
      "11. Someone threw a bunch of herbs in my face Now I’m parsley sighted.\n",
      "12. How do you make the number one disappear? Just add a g and it's gone.\n",
      "13. What do you say when a Mexican is in bed? Taco-Stado\n",
      "14. Christmas present I Asked my family not to give me two of the same kind for christmas. So now I look forward to get the other sock next time.\n",
      "15. Why did the old man fall in the well? Because he couldn't see that well.\n",
      "16. What did Yoda say when he saw himself in 4K? HDMI\n",
      "17. Where do shoes talk while they wait for trains? At the Converse station!\n",
      "18. Why do astranomers are bad at eye contact? They tend to stare into space.\n",
      "19. How did the farmer find his wife? He tractor down\n",
      "20. What do you call a person who repeatedly farts? A BadAss\n",
      "21. Why didn't the apostles chase Jesus after their argument? Anytime you crossed him, he would come back 3 days later\n",
      "22. My son’s fourth birthday was today, but when he came to see me I didn’t recognize him at first. I’d never seen him be 4.\n",
      "23. Convertibles are the most cold-hearted and merciless of cars They're roofless!\n",
      "24. Nasa wants you to find water on Mars. Dad getting his new 3 iron and fresh ball \"say no more\".\n",
      "25. Why can’t dinosaurs clap? Because they’re all dead.\n",
      "26. As we were walking down the driveway with the cans, I asked my son, \"Did you know there’s no official training for garbage men?\" Rolling his eyes, he responded, \"No, no I didn't.\" I continued... \n",
      "\n",
      "\"Seriously, they just pick it up as they go along!\"\n",
      "27. What did Sherlock Holmes say when he found some cheese at a murder scene? It's emmental, dear Watson.\n",
      "28. There was this poor clinic for amputees. They didn’t have enough prosthetic limbs to go around. So they resorted to arms trading\n",
      "29. Did you hear about the woman in Brazil who was wrongly convicted of having an abortion? It was a miscarriage of justice\n",
      "30. Dark joke! Better get a flash light\n",
      "31. Been a few years, my kid and I are catching up ....he hasnt learned to hold the glove the other way yet.\n",
      "32. My wife saw me treating a stye with some tea bags and hot water. I asked if she wanted some Information Technology. “What?” “You know, eye tea?”\n",
      "\n",
      "She rolled her eyes and walked away.\n",
      "33. My stainless steel started rusting It must've been a carbon copy\n",
      "34. When did the polish man wake up? At the Kraków dawn\n",
      "\n",
      "&amp;#x200B;\n",
      "\n",
      "hehehe\n",
      "35. What do conspiracists and Excel have in common? They spreadsheet\n"
     ]
    }
   ],
   "source": [
    "while curr_index < 11000: # until we get to the final count\n",
    "    df_for_input, curr_index  = get_next_input(df_dadjokes, curr_index)\n",
    "    input_str = '\\n'.join([f'{i}. {joke.strip()}' for i, joke in enumerate(df_for_input['joke'], NUM_OF_EXAMPLES+1)])\n",
    "    # print(input_str)\n",
    "\n",
    "    # send to completion\n",
    "    completion = client.chat.completions.create(\n",
    "        model=model_name,\n",
    "        messages=[\n",
    "            {'role': 'user',\n",
    "             'content': examples_instructions_prompt + input_str}\n",
    "        ]\n",
    "    )\n",
    "\n",
    "    edited_jokes_series = parse_response(completion.choices[0].message.content)\n",
    "    df_not_jokes = save_samples(df_for_input, edited_jokes_series, df_not_jokes)"
   ],
   "metadata": {
    "collapsed": false,
    "pycharm": {
     "name": "#%%\n"
    }
   }
  },
  {
   "cell_type": "code",
   "execution_count": 76,
   "outputs": [
    {
     "name": "stdout",
     "output_type": "stream",
     "text": [
      "Based on the instruction to make the sentences non-humorous by changing as little as possible:\n",
      "\n",
      "6. What did the first ant say to the second ant after he farted? It's not me, it's a coincidence.\n",
      "7. What time did Sean Connery normally arrive at Wimbledon? Around ten.\n",
      "8. Tell your young children that you bought them wet wipes. This way it will help to clean them whenever they use the toilet.\n",
      "9. What does Forrest Gump suggest we should name the next generation? A new name.\n",
      "10. What sort of music do people listen to while wrapping presents? Instrumental.\n",
      "11. Someone threw a bunch of herbs in my face. Now I’m lightly dusted with spices.\n",
      "12. How do you change the number one into a word? Just add a g to make it gone.\n",
      "13. What do you say when someone is relaxing in bed? They are resting.\n",
      "14. Christmas present: I asked my family not to give me two of the same kind. So now I look forward to getting a different item next time.\n",
      "15. Why did the old man fall into the well? Because he wasn't looking where he was going.\n",
      "16. What did Yoda say when he saw a clear picture? This is high definition.\n",
      "17. Where do people discuss shoes while they wait for trains? At the bench.\n",
      "18. Why do astronomers seem distracted? They are focused on distant objects.\n",
      "19. How did the farmer find his wife? He went looking for her.\n",
      "20. What do you call a person who repeatedly passes gas? Inconsiderate.\n",
      "21. Why didn't the apostles follow Jesus after their disagreement? They went their separate ways.\n",
      "22. My son’s fourth birthday was today, but when he came to see me I didn’t recognize him momentarily. He had changed since I last saw him.\n",
      "23. Convertibles are different from other cars; they don't have roofs.\n",
      "24. NASA wants you to help with their research. Dad is looking for any excuse to play golf, saying \"say no more.\"\n",
      "25. Why can’t dinosaurs do much? Because they have been extinct for millions of years.\n",
      "26. As we were taking out the trash, I mentioned to my son, \"There’s no formal training for waste collectors.\" He responded uninterestedly.\n",
      "27. What did Sherlock Holmes deduce when he found some cheese at a crime scene? It's a clue, Watson.\n",
      "28. There was this clinic for amputees that was short on resources. They had to find alternative solutions.\n",
      "29. Did you hear about the woman in Brazil who was mistakenly found guilty? It was an unfortunate error within the justice system. \n",
      "30. It's very dark here! We need better lighting.\n",
      "31. It's been a while since I played catch with my kid. He still needs to practice his stance.\n",
      "32. My wife saw me applying a home remedy to a minor eye infection. She wasn't interested in the joke.\n",
      "33. My stainless steel started showing signs of wear. It must've been a low-grade material.\n",
      "34. When did the man wake up? At the break of dawn.\n",
      "\n",
      "35. What do conspiracy theorists and Excel users have in common? They both organize data.\n"
     ]
    }
   ],
   "source": [
    "# print(completion.choices[0].message.content)"
   ],
   "metadata": {
    "collapsed": false,
    "pycharm": {
     "name": "#%%\n"
    }
   }
  },
  {
   "cell_type": "code",
   "execution_count": 37,
   "outputs": [
    {
     "name": "stdout",
     "output_type": "stream",
     "text": [
      "886\n"
     ]
    }
   ],
   "source": [
    "# print(examples_instructions_prompt + input_str)\n",
    "# print(num_tokens_from_string(examples_instructions_prompt + input_str, model_name))"
   ],
   "metadata": {
    "collapsed": false,
    "pycharm": {
     "name": "#%%\n"
    }
   }
  },
  {
   "cell_type": "code",
   "execution_count": 41,
   "outputs": [
    {
     "name": "stdout",
     "output_type": "stream",
     "text": [
      "input tokens = 893\n",
      "output tokens = 460\n"
     ]
    }
   ],
   "source": [
    "print(f'input tokens = {completion.usage.prompt_tokens}')\n",
    "print(f'output tokens = {completion.usage.completion_tokens}')"
   ],
   "metadata": {
    "collapsed": false,
    "pycharm": {
     "name": "#%%\n"
    }
   }
  },
  {
   "cell_type": "code",
   "execution_count": null,
   "outputs": [],
   "source": [],
   "metadata": {
    "collapsed": false,
    "pycharm": {
     "name": "#%%\n"
    }
   }
  }
 ],
 "metadata": {
  "kernelspec": {
   "name": "venv",
   "language": "python",
   "display_name": "humor_venv"
  },
  "language_info": {
   "codemirror_mode": {
    "name": "ipython",
    "version": 3
   },
   "file_extension": ".py",
   "mimetype": "text/x-python",
   "name": "python",
   "nbconvert_exporter": "python",
   "pygments_lexer": "ipython3",
   "version": "3.9.7"
  }
 },
 "nbformat": 4,
 "nbformat_minor": 1
}