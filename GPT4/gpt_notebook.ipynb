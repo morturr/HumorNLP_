{
 "cells": [
  {
   "cell_type": "code",
   "execution_count": 9,
   "metadata": {
    "pycharm": {
     "name": "#%%\n"
    }
   },
   "outputs": [],
   "source": [
    "from openai import OpenAI\n",
    "import tiktoken\n",
    "import pandas as pd\n",
    "import numpy as np"
   ]
  },
  {
   "cell_type": "code",
   "execution_count": 36,
   "metadata": {
    "pycharm": {
     "name": "#%%\n"
    }
   },
   "outputs": [],
   "source": [
    "# creating gpt client\n",
    "models = {'gpt-3.5-turbo': 'gpt-3.5-turbo',\n",
    "          'gpt-4-turbo-1': 'gpt-4-turbo-preview',\n",
    "          'gpt-4-turbo-2': 'gpt-4-1106-preview'}\n",
    "\n",
    "model_name = models['gpt-4-turbo-2']"
   ]
  },
  {
   "cell_type": "code",
   "execution_count": 3,
   "metadata": {
    "pycharm": {
     "name": "#%%\n"
    }
   },
   "outputs": [],
   "source": [
    "# function for calculating num of tokens of sentence\n",
    "def num_tokens_from_string(string: str, model_name: str) -> int:\n",
    "    \"\"\"Returns the number of tokens in a text string.\"\"\"\n",
    "    encoding = tiktoken.encoding_for_model(model_name)\n",
    "    num_tokens = len(encoding.encode(string))\n",
    "    return num_tokens"
   ]
  },
  {
   "cell_type": "code",
   "execution_count": 17,
   "metadata": {
    "pycharm": {
     "name": "#%%\n"
    }
   },
   "outputs": [],
   "source": [
    "# load Reddit Dad Jokes dataset\n",
    "df_dadjokes = pd.read_csv('../Data/new_humor_datasets/reddit_dadjokes/reddit_dadjokes.csv')\n",
    "# get only 1 score samples\n",
    "df_dadjokes = df_dadjokes[df_dadjokes.score == 1]"
   ]
  },
  {
   "cell_type": "code",
   "execution_count": 18,
   "outputs": [],
   "source": [
    "# clean from duplicates and reposts\n",
    "df_dadjokes = df_dadjokes[df_dadjokes['joke'].apply(lambda joke: 'reposted' not in joke.lower())]\n",
    "df_dadjokes.drop_duplicates(inplace=True)"
   ],
   "metadata": {
    "collapsed": false,
    "pycharm": {
     "name": "#%%\n"
    }
   }
  },
  {
   "cell_type": "code",
   "execution_count": 19,
   "metadata": {
    "pycharm": {
     "name": "#%%\n"
    }
   },
   "outputs": [],
   "source": [
    "lambda_num_tokens = lambda s: num_tokens_from_string(s, model_name)\n",
    "df_dadjokes['num_tokens'] = df_dadjokes['joke'].apply(lambda_num_tokens)"
   ]
  },
  {
   "cell_type": "code",
   "execution_count": 20,
   "outputs": [
    {
     "name": "stdout",
     "output_type": "stream",
     "text": [
      "average num of tokens per sample = 25.840883317895756\n",
      "overall samples tokens per 10K samples = 258408.83317895755\n"
     ]
    }
   ],
   "source": [
    "print(f'average num of tokens per sample = {np.mean(df_dadjokes.num_tokens)}')\n",
    "print(f'overall samples tokens per 10K samples = {10000 * np.mean(df_dadjokes.num_tokens)}')"
   ],
   "metadata": {
    "collapsed": false,
    "pycharm": {
     "name": "#%%\n"
    }
   }
  },
  {
   "cell_type": "code",
   "execution_count": 21,
   "outputs": [],
   "source": [
    "df_for_input = df_dadjokes['joke'].iloc[100:120]"
   ],
   "metadata": {
    "collapsed": false,
    "pycharm": {
     "name": "#%%\n"
    }
   }
  },
  {
   "cell_type": "code",
   "execution_count": 30,
   "outputs": [],
   "source": [
    "num_of_examples = 5\n",
    "input_str = '\\n'.join([f'{i}. {joke}' for i, joke in enumerate(df_for_input, num_of_examples+1)])\n",
    "print(input_str)"
   ],
   "metadata": {
    "collapsed": false,
    "pycharm": {
     "name": "#%%\n"
    }
   }
  },
  {
   "cell_type": "code",
   "execution_count": 32,
   "outputs": [],
   "source": [
    "# create examples and instruction to gpt request\n",
    "examples_instructions_prompt = \\\n",
    "    \"###\" \\\n",
    "    \"1. input: 'A grizzly kept talking to me and annoyed me He was unbearable'\" \\\n",
    "    \"output: 'A grizzly kept talking to me and annoyed me He was intolerable'\" \\\n",
    "    \"2. input: 'For Christmas, I requested my family not to give me duplicates of the same item. Now I anticipate \" \\\n",
    "    \"receiving the missing sock next time.' \" \\\n",
    "    \"output: 'For Christmas, I requested my family not to give me duplicates of the same item. Now I anticipate \" \\\n",
    "    \"receiving the other book next time.' \" \\\n",
    "    \"3. input: 'My son’s fourth birthday was today, but when he came to see me I didn’t recognize him at first. I’d \" \\\n",
    "    \"never seen him be 4.' \" \\\n",
    "    \"output: My son’s fourth birthday was today, but when he came to see me I didn’t recognize him at first. He grew \" \\\n",
    "    \"up so fast. \" \\\n",
    "    \"4. input: 'I asked my friend if he liked Nickleback. He told me that he never gave me any money'\" \\\n",
    "    \"output: 'I asked my friend if he liked Nickleback. He told me that he prefers Kings of Leon.'\" \\\n",
    "    \"5. input: 'I went to a bookstore and asked where the self-help section was The clerk said that if she told me, \" \\\n",
    "    \"it would defeat the purpose.' \" \\\n",
    "    \"output: 'I went to a bookstore and asked where the self-help section was The clerk said it was in the third \" \\\n",
    "    \"aisle .' \" \\\n",
    "    \"###\" \\\n",
    "    \"Using the examples in ### markers, please change some of the words in the following sentences to make\" \\\n",
    "    \" them non humorous. You can change anything but please change the least you can:\\n\"\n"
   ],
   "metadata": {
    "collapsed": false,
    "pycharm": {
     "name": "#%%\n"
    }
   }
  },
  {
   "cell_type": "code",
   "execution_count": 37,
   "outputs": [
    {
     "name": "stdout",
     "output_type": "stream",
     "text": [
      "886\n"
     ]
    }
   ],
   "source": [
    "# print(examples_instructions_prompt + input_str)\n",
    "print(num_tokens_from_string(examples_instructions_prompt + input_str, model_name))"
   ],
   "metadata": {
    "collapsed": false,
    "pycharm": {
     "name": "#%%\n"
    }
   }
  },
  {
   "cell_type": "code",
   "execution_count": 38,
   "outputs": [],
   "source": [
    "# send to completion\n",
    "completion = client.chat.completions.create(\n",
    "    model=model_name,\n",
    "    messages=[\n",
    "        {'role': 'user',\n",
    "         'content': examples_instructions_prompt + input_str}\n",
    "    ]\n",
    ")"
   ],
   "metadata": {
    "collapsed": false,
    "pycharm": {
     "name": "#%%\n"
    }
   }
  },
  {
   "cell_type": "code",
   "execution_count": 39,
   "outputs": [
    {
     "name": "stdout",
     "output_type": "stream",
     "text": [
      "6. Did I tell you about my friend with a boat making business in his attic? Business is going well for him.\n",
      "7. This year my resolution is to learn new skills that combine my interests in poetry and animals.\n",
      "8. I value my family time and enjoy watching movies together.\n",
      "9. Did you hear of the Librarian who became unwell while reading a book? She had to take a sick leave.\n",
      "10. For some reason, I always think there are only 25 letters in the alphabet... ...I must be forgetting one.\n",
      "11. What's the difference between a goldfish and a clownfish? They belong to different species and habitats.\n",
      "12. Have you heard about the health concerns going on in France? It's a serious issue.\n",
      "13. Did you hear Bill Gates was in a dance competition? It turns out dancing isn't one of his talents.\n",
      "14. What can you expect when you ask a teenager a question? Sometimes you might get a cheeky response.\n",
      "15. I used to have a job handling bulk agricultural goods before the company changed its packaging process.\n",
      "16. Why did the cell phones break up? They had technical differences.\n",
      "17. My mother (76) fainted this morning and she’s in the hospital. I'm gathering well-wishes to lift her spirits. Your kind messages would be appreciated.\n",
      "18. It seems like the new year is starting with challenging health issues all around the world.\n",
      "19. When I was a kid, I worked hard to learn how to play the guitar, and I'm still dedicated to improving.\n",
      "20. We had such a memorable holiday in Hawaii that my wife wants to commemorate it permanently.\n",
      "21. I didn't have to get her a gift for Christmas this year. I'm still waiting for her to make use of last year's thoughtful present.\n",
      "22. I used to work in food processing, handling ingredients for various products.\n",
      "23. Did you hear about the fugitive who is evading the authorities? Police are actively pursuing the case.\n",
      "24. It's common for children to have accidents, so I'm trying to teach my son that it's okay and nothing to be ashamed of.\n",
      "25. I misunderstood my girlfriend's request for a large wardrobe, and I ended up giving her something quite unconventional.\n"
     ]
    }
   ],
   "source": [
    "print(completion.choices[0].message.content)"
   ],
   "metadata": {
    "collapsed": false,
    "pycharm": {
     "name": "#%%\n"
    }
   }
  },
  {
   "cell_type": "code",
   "execution_count": 41,
   "outputs": [
    {
     "name": "stdout",
     "output_type": "stream",
     "text": [
      "input tokens = 893\n",
      "output tokens = 460\n"
     ]
    }
   ],
   "source": [
    "print(f'input tokens = {completion.usage.prompt_tokens}')\n",
    "print(f'output tokens = {completion.usage.completion_tokens}')"
   ],
   "metadata": {
    "collapsed": false,
    "pycharm": {
     "name": "#%%\n"
    }
   }
  },
  {
   "cell_type": "code",
   "execution_count": null,
   "outputs": [],
   "source": [],
   "metadata": {
    "collapsed": false,
    "pycharm": {
     "name": "#%%\n"
    }
   }
  }
 ],
 "metadata": {
  "kernelspec": {
   "name": "venv",
   "language": "python",
   "display_name": "humor_venv"
  },
  "language_info": {
   "codemirror_mode": {
    "name": "ipython",
    "version": 3
   },
   "file_extension": ".py",
   "mimetype": "text/x-python",
   "name": "python",
   "nbconvert_exporter": "python",
   "pygments_lexer": "ipython3",
   "version": "3.9.7"
  }
 },
 "nbformat": 4,
 "nbformat_minor": 1
}