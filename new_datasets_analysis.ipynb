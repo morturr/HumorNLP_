{
 "cells": [
  {
   "cell_type": "code",
   "execution_count": 3,
   "metadata": {
    "collapsed": true
   },
   "outputs": [],
   "source": [
    "import pandas as pd\n",
    "import numpy as np\n",
    "# from xarray.util.generate_ops import inplace\n",
    "\n",
    "path = './Data/new_humor_datasets/'"
   ]
  },
  {
   "cell_type": "code",
   "source": [
    "def print_df_labels_stat(df, df_name, sent_col_name):\n",
    "    print(f'stats for {df_name}:')\n",
    "    print(f'{df_name} len = {len(df)}')\n",
    "    df_label_0 = df[df.label == 0]\n",
    "    df_label_1 = df[df.label == 1]\n",
    "    print(f'% 0 labels = {\"%.2f\" %  (100 * (len(df_label_0) / len(df)))}')\n",
    "    print(f'% 1 labels = {\"%.2f\" %  (100 * (len(df_label_1) / len(df)))}')\n",
    "    print(f'avg sentence length label 0 = {\"%.2f\" %  np.mean(df_label_0[sent_col_name].apply(lambda s: len(s)))}')\n",
    "    print(f'avg sentence length label 1 = {\"%.2f\" %  np.mean(df_label_1[sent_col_name].apply(lambda s: len(s)))}')"
   ],
   "metadata": {
    "collapsed": false,
    "pycharm": {
     "name": "#%%\n"
    }
   },
   "execution_count": 4,
   "outputs": []
  },
  {
   "cell_type": "markdown",
   "source": [
    "## Amazon"
   ],
   "metadata": {
    "collapsed": false
   }
  },
  {
   "cell_type": "code",
   "execution_count": 22,
   "outputs": [
    {
     "name": "stdout",
     "output_type": "stream",
     "text": [
      "stats for amazon:\n",
      "amazon len = 19094\n",
      "% 0 labels = 50.0\n",
      "% 1 labels = 50.0\n",
      "avg sentence length label 0 = 142.11\n",
      "avg sentence length label 1 = 141.49\n"
     ]
    }
   ],
   "source": [
    "dataset_amazon_name = 'amazon'\n",
    "amazon_path = path + dataset_amazon_name + '/'\n",
    "df_amazon = pd.read_csv(amazon_path + '/data.csv')\n",
    "print_df_labels_stat(df_amazon, 'amazon', 'bert_sentence')"
   ],
   "metadata": {
    "collapsed": false,
    "pycharm": {
     "name": "#%%\n"
    }
   }
  },
  {
   "cell_type": "markdown",
   "source": [
    "## Sarcasm Headlines"
   ],
   "metadata": {
    "collapsed": false
   }
  },
  {
   "cell_type": "code",
   "execution_count": 48,
   "outputs": [
    {
     "name": "stdout",
     "output_type": "stream",
     "text": [
      "stats for sarcasm_headlines:\n",
      "sarcasm_headlines len = 28617\n",
      "% 0 labels = 52.36\n",
      "% 1 labels = 47.64\n",
      "avg sentence length label 0 = 59.56\n",
      "avg sentence length label 1 = 65.33\n"
     ]
    },
    {
     "name": "stderr",
     "output_type": "stream",
     "text": [
      "C:\\Users\\mortu\\anaconda3\\lib\\site-packages\\pandas\\core\\frame.py:5039: SettingWithCopyWarning: \n",
      "A value is trying to be set on a copy of a slice from a DataFrame\n",
      "\n",
      "See the caveats in the documentation: https://pandas.pydata.org/pandas-docs/stable/user_guide/indexing.html#returning-a-view-versus-a-copy\n",
      "  return super().rename(\n"
     ]
    }
   ],
   "source": [
    "dataset_headlines_name = 'sarcasm_headlines'\n",
    "headlines_path = path + dataset_headlines_name + '/'\n",
    "headlines_train_df = pd.read_csv(headlines_path + 'train.csv')\n",
    "df_headlines = headlines_train_df.drop_duplicates()\n",
    "df_headlines.rename(columns={'headline': 'sentence', 'is_sarcastic': 'label'}, inplace=True)\n",
    "df_headlines.to_csv(headlines_path + 'data.csv', index=False)\n",
    "print_df_labels_stat(df_headlines, 'sarcasm_headlines', 'sentence')"
   ],
   "metadata": {
    "collapsed": false,
    "pycharm": {
     "name": "#%%\n"
    }
   }
  },
  {
   "cell_type": "markdown",
   "source": [
    "## One Liners"
   ],
   "metadata": {
    "collapsed": false,
    "pycharm": {
     "name": "#%% md\n"
    }
   }
  },
  {
   "cell_type": "code",
   "execution_count": 5,
   "outputs": [],
   "source": [
    "dataset_oneliners_name = 'one_liners'\n",
    "oneliners_path = path + dataset_oneliners_name + '/'"
   ],
   "metadata": {
    "collapsed": false,
    "pycharm": {
     "name": "#%%\n"
    }
   }
  },
  {
   "cell_type": "code",
   "execution_count": 6,
   "outputs": [],
   "source": [
    "with open(path + 'one_liners/Jokes16000.txt', 'r', encoding=\"latin1\") as f:\n",
    "    jokes = []\n",
    "    for line in f:\n",
    "        jokes.append(line)\n",
    "with open(path + 'one_liners/MIX16000.txt', 'r', encoding=\"latin1\") as f:\n",
    "    not_jokes = []\n",
    "    for line in f:\n",
    "        not_jokes.append(line)\n",
    "\n",
    "df_jokes = pd.DataFrame(jokes, columns=['text'])\n",
    "df_not_jokes = pd.DataFrame(not_jokes, columns=['text'])\n",
    "df_jokes['label'] = 1\n",
    "df_not_jokes['label'] = 0"
   ],
   "metadata": {
    "collapsed": false,
    "pycharm": {
     "name": "#%%\n"
    }
   }
  },
  {
   "cell_type": "code",
   "execution_count": 7,
   "outputs": [],
   "source": [
    "df_one_liners = pd.concat([df_jokes, df_not_jokes], ignore_index=True)\n",
    "df_one_liners['id'] = range(len(df_one_liners))\n",
    "df_one_liners = df_one_liners.sample(frac=1, random_state=0)\n",
    "df_one_liners.to_csv(path + 'one_liners/data.csv', index=False)"
   ],
   "metadata": {
    "collapsed": false,
    "pycharm": {
     "name": "#%%\n"
    }
   }
  },
  {
   "cell_type": "code",
   "execution_count": 8,
   "outputs": [
    {
     "name": "stdout",
     "output_type": "stream",
     "text": [
      "stats for one_liners:\n",
      "one_liners len = 32000\n",
      "% 0 labels = 50.00\n",
      "% 1 labels = 50.00\n",
      "avg sentence length label 0 = 50.80\n",
      "avg sentence length label 1 = 68.50\n"
     ]
    }
   ],
   "source": [
    "df_one_liners = df_one_liners.drop_duplicates()\n",
    "# df_headlines.to_csv(headlines_path + 'data.csv', index=False)\n",
    "print_df_labels_stat(df_one_liners, 'one_liners', 'text')"
   ],
   "metadata": {
    "collapsed": false,
    "pycharm": {
     "name": "#%%\n"
    }
   }
  },
  {
   "cell_type": "markdown",
   "source": [
    "## Short Jokes"
   ],
   "metadata": {
    "collapsed": false,
    "pycharm": {
     "name": "#%% md\n"
    }
   }
  },
  {
   "cell_type": "code",
   "execution_count": 22,
   "outputs": [
    {
     "name": "stdout",
     "output_type": "stream",
     "text": [
      "stats for short_jokes:\n",
      "short_jokes len = 457343\n",
      "% 0 labels = 50.43\n",
      "% 1 labels = 49.57\n",
      "avg sentence length label 0 = 119.71\n",
      "avg sentence length label 1 = 91.35\n"
     ]
    }
   ],
   "source": [
    "dataset_shj_name = 'short_jokes'\n",
    "shj_path = path + dataset_shj_name + '/'\n",
    "shj_old_path = path + dataset_shj_name + '/files/'\n",
    "df_shj = pd.read_csv(shj_old_path + 'data.csv')\n",
    "df_shj.drop(columns=['Unnamed: 0'], inplace=True)\n",
    "df_shj.rename(columns={'text': 'sentence'}, inplace=True)\n",
    "df_shj.drop_duplicates(inplace=True)\n",
    "df_shj.to_csv(shj_path + 'data.csv', index=False)\n",
    "print_df_labels_stat(df_shj, 'short_jokes', 'sentence')"
   ],
   "metadata": {
    "collapsed": false,
    "pycharm": {
     "name": "#%%\n"
    }
   }
  },
  {
   "cell_type": "markdown",
   "source": [
    "## Dad Jokes"
   ],
   "metadata": {
    "collapsed": false,
    "pycharm": {
     "name": "#%% md\n"
    }
   }
  },
  {
   "cell_type": "markdown",
   "source": [],
   "metadata": {
    "collapsed": false
   }
  },
  {
   "cell_type": "code",
   "execution_count": 28,
   "outputs": [],
   "source": [
    "dataset_dadj_name = 'dad_jokes'\n",
    "dadj_path = path + dataset_dadj_name + '/'\n",
    "df_dadj = pd.read_csv(dadj_path + 'dad_jokes.csv')\n",
    "df_dadj.drop(columns=['Unnamed: 0'], inplace=True)\n",
    "df_dadj.rename(columns={'joke': 'sentence'}, inplace=True)\n",
    "df_dadj.drop_duplicates(inplace=True)\n",
    "df_dadj.to_csv(dadj_path + 'data.csv', index=False)"
   ],
   "metadata": {
    "collapsed": false,
    "pycharm": {
     "name": "#%%\n"
    }
   }
  },
  {
   "cell_type": "code",
   "execution_count": 29,
   "outputs": [
    {
     "name": "stdout",
     "output_type": "stream",
     "text": [
      "len of dad jokes = 6161\n",
      "jokes without ?: 2972\n",
      "avg sentence length = 104.99\n"
     ]
    }
   ],
   "source": [
    "df_dadj_no_quest = df_dadj[df_dadj['sentence'].apply(lambda s: '?' not in s)]\n",
    "print(f'len of dad jokes = {len(df_dadj)}')\n",
    "print(f'jokes without ?: {len(df_dadj_no_quest)}')\n",
    "print(f'avg sentence length = {\"%.2f\" %  np.mean(df_dadj.sentence.apply(lambda s: len(s)))}')"
   ],
   "metadata": {
    "collapsed": false,
    "pycharm": {
     "name": "#%%\n"
    }
   }
  },
  {
   "cell_type": "markdown",
   "source": [
    "## Reddit Dad Jokes"
   ],
   "metadata": {
    "collapsed": false,
    "pycharm": {
     "name": "#%% md\n"
    }
   }
  },
  {
   "cell_type": "code",
   "execution_count": 4,
   "outputs": [],
   "source": [
    "dataset_redadj_name = 'reddit_dadjokes'\n",
    "redadj_path = path + dataset_redadj_name + '/'\n",
    "df_redadj = pd.read_csv(redadj_path + 'reddit_dadjokes.csv')\n",
    "# df_dadj.rename(columns={'joke': 'sentence'}, inplace=True)\n",
    "# df_dadj.to_csv(dadj_path + 'data.csv', index=False)"
   ],
   "metadata": {
    "collapsed": false,
    "pycharm": {
     "name": "#%%\n"
    }
   }
  },
  {
   "cell_type": "code",
   "execution_count": 12,
   "outputs": [],
   "source": [
    "sorted_redadj = df_redadj.sort_values(by='score')\n",
    "df_redadj_top = df_redadj[df_redadj['score'] > 4]"
   ],
   "metadata": {
    "collapsed": false,
    "pycharm": {
     "name": "#%%\n"
    }
   }
  },
  {
   "cell_type": "code",
   "execution_count": 13,
   "outputs": [
    {
     "name": "stdout",
     "output_type": "stream",
     "text": [
      "avg sentence length = 129.69\n"
     ]
    }
   ],
   "source": [
    "print(f'avg sentence length = {\"%.2f\" %  np.mean(df_redadj_top.joke.apply(lambda s: len(s)))}')"
   ],
   "metadata": {
    "collapsed": false,
    "pycharm": {
     "name": "#%%\n"
    }
   }
  },
  {
   "cell_type": "markdown",
   "source": [],
   "metadata": {
    "collapsed": false
   }
  },
  {
   "cell_type": "code",
   "execution_count": 11,
   "outputs": [
    {
     "name": "stdout",
     "output_type": "stream",
     "text": [
      "Number of less than 3 score jokes: 140286\n"
     ]
    }
   ],
   "source": [
    "# how many less than 3?\n",
    "less_than_3_count = sorted_redadj[sorted_redadj['score'] < 3]\n",
    "\n",
    "print(f'Number of less than 3 score jokes: {len(less_than_3_count)}')"
   ],
   "metadata": {
    "collapsed": false,
    "pycharm": {
     "name": "#%%\n"
    }
   }
  },
  {
   "cell_type": "markdown",
   "source": [
    "## Grammar Dataset"
   ],
   "metadata": {
    "collapsed": false,
    "pycharm": {
     "name": "#%% md\n"
    }
   }
  },
  {
   "cell_type": "code",
   "execution_count": 45,
   "outputs": [],
   "source": [
    "dataset_grammar_name = 'grammar_error'\n",
    "grammar_path = path + dataset_grammar_name + '/'\n",
    "df_train_grammar = pd.read_csv(grammar_path + 'train_data.csv')\n",
    "# df_test_grammar = pd.read_csv(grammar_path + 'test_data.csv') ## no labels\n",
    "df_val_grammar = pd.read_csv(grammar_path + 'val_data.csv')\n",
    "df_grammar = df_train_grammar.append(df_val_grammar, ignore_index=True)\n",
    "df_grammar.drop_duplicates(inplace=True)\n",
    "df_grammar.rename(columns={'input': 'sentence', 'labels': 'label'}, inplace=True)\n",
    "\n",
    "df_grammar.to_csv(grammar_path + 'data.csv', index=False)"
   ],
   "metadata": {
    "collapsed": false,
    "pycharm": {
     "name": "#%%\n"
    }
   }
  },
  {
   "cell_type": "code",
   "execution_count": 41,
   "outputs": [
    {
     "name": "stdout",
     "output_type": "stream",
     "text": [
      "Number of unique rows: 29532\n"
     ]
    }
   ],
   "source": [
    "unique_rows_count = df_grammar.drop_duplicates().shape[0]\n",
    "\n",
    "print(\"Number of unique rows:\", unique_rows_count)"
   ],
   "metadata": {
    "collapsed": false,
    "pycharm": {
     "name": "#%%\n"
    }
   }
  },
  {
   "cell_type": "code",
   "execution_count": 46,
   "outputs": [
    {
     "name": "stdout",
     "output_type": "stream",
     "text": [
      "stats for grammar_error:\n",
      "grammar_error len = 29532\n",
      "% 0 labels = 50.13\n",
      "% 1 labels = 49.87\n",
      "avg sentence length label 0 = 54.60\n",
      "avg sentence length label 1 = 55.42\n"
     ]
    }
   ],
   "source": [
    "print_df_labels_stat(df_grammar, 'grammar_error', 'sentence')"
   ],
   "metadata": {
    "collapsed": false,
    "pycharm": {
     "name": "#%%\n"
    }
   }
  },
  {
   "cell_type": "code",
   "execution_count": 57,
   "outputs": [],
   "source": [
    "df_grammar.to_csv(grammar_path + 'data.csv', index=False)"
   ],
   "metadata": {
    "collapsed": false,
    "pycharm": {
     "name": "#%%\n"
    }
   }
  },
  {
   "cell_type": "markdown",
   "source": [
    "## Yelp Reviews"
   ],
   "metadata": {
    "collapsed": false,
    "pycharm": {
     "name": "#%% md\n"
    }
   }
  },
  {
   "cell_type": "code",
   "execution_count": 18,
   "outputs": [],
   "source": [
    "dataset_yelp_name = 'yelp_reviews'\n",
    "yelp_path = path + dataset_yelp_name + '/'\n",
    "df_yelp_funny = pd.read_csv(yelp_path + 'funny_reviews.csv')\n",
    "df_yelp_unfunny = pd.read_csv(yelp_path + 'unfunny_reviews.csv')"
   ],
   "metadata": {
    "collapsed": false,
    "pycharm": {
     "name": "#%%\n"
    }
   }
  },
  {
   "cell_type": "code",
   "execution_count": 20,
   "outputs": [],
   "source": [
    "df_yelp = df_yelp_funny.append(df_yelp_unfunny, ignore_index=True)\n",
    "df_yelp.rename(columns={'text': 'sentence'}, inplace=True)\n",
    "df_yelp['label'] = df_yelp['funny'].apply(lambda x: 1 if x > 0 else 0)\n",
    "df_yelp.to_csv(yelp_path + 'data.csv', index=False)"
   ],
   "metadata": {
    "collapsed": false,
    "pycharm": {
     "name": "#%%\n"
    }
   }
  },
  {
   "cell_type": "markdown",
   "source": [
    "# Histograms & Other Statistics"
   ],
   "metadata": {
    "collapsed": false,
    "pycharm": {
     "name": "#%% md\n"
    }
   }
  },
  {
   "cell_type": "code",
   "execution_count": 1,
   "outputs": [],
   "source": [
    "import pandas as pd\n",
    "import numpy as np\n",
    "# import matplotlib.pyplot as plt\n",
    "import plotly.express as px\n",
    "\n",
    "\n",
    "path = './Data/new_humor_datasets/'"
   ],
   "metadata": {
    "collapsed": false,
    "pycharm": {
     "name": "#%%\n"
    }
   }
  },
  {
   "cell_type": "code",
   "execution_count": 2,
   "outputs": [],
   "source": [
    "# create histogram of reddit dad jokes score\n",
    "redadj_path = path + 'reddit_dadjokes/'\n",
    "df_redadj = pd.read_csv(redadj_path + 'reddit_dadjokes.csv')"
   ],
   "metadata": {
    "collapsed": false,
    "pycharm": {
     "name": "#%%\n"
    }
   }
  },
  {
   "cell_type": "code",
   "execution_count": null,
   "outputs": [],
   "source": [
    "import plotly.express as px\n",
    "# fig = go.Figure(data=[go.Histogram(x=[val for val in df_redadj['score'] if 0 <= val <= 20],\n",
    "#                                    nbinsx=40,\n",
    "#                                    histnorm='count', autobinx=True)])\n",
    "counts, bins = np.histogram(df_redadj.score, bins=range(0, 21, 1))\n",
    "fig = px.bar(y=counts, x=bins[:-1])\n",
    "fig.update_traces(texttemplate='%{y:.2s}', textposition='outside')\n",
    "fig.update_layout(\n",
    "    xaxis_title=\"Score\",\n",
    "    yaxis_title=\"Count\",\n",
    "    title=\"Reddit Posts' Scores 0-20 Histogram\"\n",
    ")\n",
    "# fig.update_layout(uniformtext_minsize=8, uniformtext_mode='hide')\n",
    "fig.show()"
   ],
   "metadata": {
    "collapsed": false,
    "pycharm": {
     "name": "#%%\n",
     "is_executing": true
    }
   }
  },
  {
   "cell_type": "code",
   "execution_count": 152,
   "outputs": [
    {
     "data": {
      "application/vnd.plotly.v1+json": {
       "data": [
        {
         "alignmentgroup": "True",
         "hovertemplate": "x=%{x}<br>y=%{y}<extra></extra>",
         "legendgroup": "",
         "marker": {
          "color": "indianred",
          "pattern": {
           "shape": ""
          }
         },
         "name": "",
         "offsetgroup": "",
         "orientation": "v",
         "showlegend": false,
         "textposition": "outside",
         "x": [
          2,
          3,
          4,
          5,
          6,
          7,
          8,
          9,
          10,
          11,
          12,
          13,
          14,
          15,
          16,
          17,
          18,
          19
         ],
         "xaxis": "x",
         "y": [
          11764,
          9174,
          6755,
          6020,
          5134,
          4267,
          3461,
          2950,
          2568,
          2143,
          1893,
          1675,
          1495,
          1238,
          1187,
          1098,
          1002,
          1781
         ],
         "yaxis": "y",
         "type": "bar",
         "texttemplate": "%{y:.2s}"
        }
       ],
       "layout": {
        "template": {
         "data": {
          "histogram2dcontour": [
           {
            "type": "histogram2dcontour",
            "colorbar": {
             "outlinewidth": 0,
             "ticks": ""
            },
            "colorscale": [
             [
              0.0,
              "#0d0887"
             ],
             [
              0.1111111111111111,
              "#46039f"
             ],
             [
              0.2222222222222222,
              "#7201a8"
             ],
             [
              0.3333333333333333,
              "#9c179e"
             ],
             [
              0.4444444444444444,
              "#bd3786"
             ],
             [
              0.5555555555555556,
              "#d8576b"
             ],
             [
              0.6666666666666666,
              "#ed7953"
             ],
             [
              0.7777777777777778,
              "#fb9f3a"
             ],
             [
              0.8888888888888888,
              "#fdca26"
             ],
             [
              1.0,
              "#f0f921"
             ]
            ]
           }
          ],
          "choropleth": [
           {
            "type": "choropleth",
            "colorbar": {
             "outlinewidth": 0,
             "ticks": ""
            }
           }
          ],
          "histogram2d": [
           {
            "type": "histogram2d",
            "colorbar": {
             "outlinewidth": 0,
             "ticks": ""
            },
            "colorscale": [
             [
              0.0,
              "#0d0887"
             ],
             [
              0.1111111111111111,
              "#46039f"
             ],
             [
              0.2222222222222222,
              "#7201a8"
             ],
             [
              0.3333333333333333,
              "#9c179e"
             ],
             [
              0.4444444444444444,
              "#bd3786"
             ],
             [
              0.5555555555555556,
              "#d8576b"
             ],
             [
              0.6666666666666666,
              "#ed7953"
             ],
             [
              0.7777777777777778,
              "#fb9f3a"
             ],
             [
              0.8888888888888888,
              "#fdca26"
             ],
             [
              1.0,
              "#f0f921"
             ]
            ]
           }
          ],
          "heatmap": [
           {
            "type": "heatmap",
            "colorbar": {
             "outlinewidth": 0,
             "ticks": ""
            },
            "colorscale": [
             [
              0.0,
              "#0d0887"
             ],
             [
              0.1111111111111111,
              "#46039f"
             ],
             [
              0.2222222222222222,
              "#7201a8"
             ],
             [
              0.3333333333333333,
              "#9c179e"
             ],
             [
              0.4444444444444444,
              "#bd3786"
             ],
             [
              0.5555555555555556,
              "#d8576b"
             ],
             [
              0.6666666666666666,
              "#ed7953"
             ],
             [
              0.7777777777777778,
              "#fb9f3a"
             ],
             [
              0.8888888888888888,
              "#fdca26"
             ],
             [
              1.0,
              "#f0f921"
             ]
            ]
           }
          ],
          "heatmapgl": [
           {
            "type": "heatmapgl",
            "colorbar": {
             "outlinewidth": 0,
             "ticks": ""
            },
            "colorscale": [
             [
              0.0,
              "#0d0887"
             ],
             [
              0.1111111111111111,
              "#46039f"
             ],
             [
              0.2222222222222222,
              "#7201a8"
             ],
             [
              0.3333333333333333,
              "#9c179e"
             ],
             [
              0.4444444444444444,
              "#bd3786"
             ],
             [
              0.5555555555555556,
              "#d8576b"
             ],
             [
              0.6666666666666666,
              "#ed7953"
             ],
             [
              0.7777777777777778,
              "#fb9f3a"
             ],
             [
              0.8888888888888888,
              "#fdca26"
             ],
             [
              1.0,
              "#f0f921"
             ]
            ]
           }
          ],
          "contourcarpet": [
           {
            "type": "contourcarpet",
            "colorbar": {
             "outlinewidth": 0,
             "ticks": ""
            }
           }
          ],
          "contour": [
           {
            "type": "contour",
            "colorbar": {
             "outlinewidth": 0,
             "ticks": ""
            },
            "colorscale": [
             [
              0.0,
              "#0d0887"
             ],
             [
              0.1111111111111111,
              "#46039f"
             ],
             [
              0.2222222222222222,
              "#7201a8"
             ],
             [
              0.3333333333333333,
              "#9c179e"
             ],
             [
              0.4444444444444444,
              "#bd3786"
             ],
             [
              0.5555555555555556,
              "#d8576b"
             ],
             [
              0.6666666666666666,
              "#ed7953"
             ],
             [
              0.7777777777777778,
              "#fb9f3a"
             ],
             [
              0.8888888888888888,
              "#fdca26"
             ],
             [
              1.0,
              "#f0f921"
             ]
            ]
           }
          ],
          "surface": [
           {
            "type": "surface",
            "colorbar": {
             "outlinewidth": 0,
             "ticks": ""
            },
            "colorscale": [
             [
              0.0,
              "#0d0887"
             ],
             [
              0.1111111111111111,
              "#46039f"
             ],
             [
              0.2222222222222222,
              "#7201a8"
             ],
             [
              0.3333333333333333,
              "#9c179e"
             ],
             [
              0.4444444444444444,
              "#bd3786"
             ],
             [
              0.5555555555555556,
              "#d8576b"
             ],
             [
              0.6666666666666666,
              "#ed7953"
             ],
             [
              0.7777777777777778,
              "#fb9f3a"
             ],
             [
              0.8888888888888888,
              "#fdca26"
             ],
             [
              1.0,
              "#f0f921"
             ]
            ]
           }
          ],
          "mesh3d": [
           {
            "type": "mesh3d",
            "colorbar": {
             "outlinewidth": 0,
             "ticks": ""
            }
           }
          ],
          "scatter": [
           {
            "fillpattern": {
             "fillmode": "overlay",
             "size": 10,
             "solidity": 0.2
            },
            "type": "scatter"
           }
          ],
          "parcoords": [
           {
            "type": "parcoords",
            "line": {
             "colorbar": {
              "outlinewidth": 0,
              "ticks": ""
             }
            }
           }
          ],
          "scatterpolargl": [
           {
            "type": "scatterpolargl",
            "marker": {
             "colorbar": {
              "outlinewidth": 0,
              "ticks": ""
             }
            }
           }
          ],
          "bar": [
           {
            "error_x": {
             "color": "#2a3f5f"
            },
            "error_y": {
             "color": "#2a3f5f"
            },
            "marker": {
             "line": {
              "color": "#E5ECF6",
              "width": 0.5
             },
             "pattern": {
              "fillmode": "overlay",
              "size": 10,
              "solidity": 0.2
             }
            },
            "type": "bar"
           }
          ],
          "scattergeo": [
           {
            "type": "scattergeo",
            "marker": {
             "colorbar": {
              "outlinewidth": 0,
              "ticks": ""
             }
            }
           }
          ],
          "scatterpolar": [
           {
            "type": "scatterpolar",
            "marker": {
             "colorbar": {
              "outlinewidth": 0,
              "ticks": ""
             }
            }
           }
          ],
          "histogram": [
           {
            "marker": {
             "pattern": {
              "fillmode": "overlay",
              "size": 10,
              "solidity": 0.2
             }
            },
            "type": "histogram"
           }
          ],
          "scattergl": [
           {
            "type": "scattergl",
            "marker": {
             "colorbar": {
              "outlinewidth": 0,
              "ticks": ""
             }
            }
           }
          ],
          "scatter3d": [
           {
            "type": "scatter3d",
            "line": {
             "colorbar": {
              "outlinewidth": 0,
              "ticks": ""
             }
            },
            "marker": {
             "colorbar": {
              "outlinewidth": 0,
              "ticks": ""
             }
            }
           }
          ],
          "scattermapbox": [
           {
            "type": "scattermapbox",
            "marker": {
             "colorbar": {
              "outlinewidth": 0,
              "ticks": ""
             }
            }
           }
          ],
          "scatterternary": [
           {
            "type": "scatterternary",
            "marker": {
             "colorbar": {
              "outlinewidth": 0,
              "ticks": ""
             }
            }
           }
          ],
          "scattercarpet": [
           {
            "type": "scattercarpet",
            "marker": {
             "colorbar": {
              "outlinewidth": 0,
              "ticks": ""
             }
            }
           }
          ],
          "carpet": [
           {
            "aaxis": {
             "endlinecolor": "#2a3f5f",
             "gridcolor": "white",
             "linecolor": "white",
             "minorgridcolor": "white",
             "startlinecolor": "#2a3f5f"
            },
            "baxis": {
             "endlinecolor": "#2a3f5f",
             "gridcolor": "white",
             "linecolor": "white",
             "minorgridcolor": "white",
             "startlinecolor": "#2a3f5f"
            },
            "type": "carpet"
           }
          ],
          "table": [
           {
            "cells": {
             "fill": {
              "color": "#EBF0F8"
             },
             "line": {
              "color": "white"
             }
            },
            "header": {
             "fill": {
              "color": "#C8D4E3"
             },
             "line": {
              "color": "white"
             }
            },
            "type": "table"
           }
          ],
          "barpolar": [
           {
            "marker": {
             "line": {
              "color": "#E5ECF6",
              "width": 0.5
             },
             "pattern": {
              "fillmode": "overlay",
              "size": 10,
              "solidity": 0.2
             }
            },
            "type": "barpolar"
           }
          ],
          "pie": [
           {
            "automargin": true,
            "type": "pie"
           }
          ]
         },
         "layout": {
          "autotypenumbers": "strict",
          "colorway": [
           "#636efa",
           "#EF553B",
           "#00cc96",
           "#ab63fa",
           "#FFA15A",
           "#19d3f3",
           "#FF6692",
           "#B6E880",
           "#FF97FF",
           "#FECB52"
          ],
          "font": {
           "color": "#2a3f5f"
          },
          "hovermode": "closest",
          "hoverlabel": {
           "align": "left"
          },
          "paper_bgcolor": "white",
          "plot_bgcolor": "#E5ECF6",
          "polar": {
           "bgcolor": "#E5ECF6",
           "angularaxis": {
            "gridcolor": "white",
            "linecolor": "white",
            "ticks": ""
           },
           "radialaxis": {
            "gridcolor": "white",
            "linecolor": "white",
            "ticks": ""
           }
          },
          "ternary": {
           "bgcolor": "#E5ECF6",
           "aaxis": {
            "gridcolor": "white",
            "linecolor": "white",
            "ticks": ""
           },
           "baxis": {
            "gridcolor": "white",
            "linecolor": "white",
            "ticks": ""
           },
           "caxis": {
            "gridcolor": "white",
            "linecolor": "white",
            "ticks": ""
           }
          },
          "coloraxis": {
           "colorbar": {
            "outlinewidth": 0,
            "ticks": ""
           }
          },
          "colorscale": {
           "sequential": [
            [
             0.0,
             "#0d0887"
            ],
            [
             0.1111111111111111,
             "#46039f"
            ],
            [
             0.2222222222222222,
             "#7201a8"
            ],
            [
             0.3333333333333333,
             "#9c179e"
            ],
            [
             0.4444444444444444,
             "#bd3786"
            ],
            [
             0.5555555555555556,
             "#d8576b"
            ],
            [
             0.6666666666666666,
             "#ed7953"
            ],
            [
             0.7777777777777778,
             "#fb9f3a"
            ],
            [
             0.8888888888888888,
             "#fdca26"
            ],
            [
             1.0,
             "#f0f921"
            ]
           ],
           "sequentialminus": [
            [
             0.0,
             "#0d0887"
            ],
            [
             0.1111111111111111,
             "#46039f"
            ],
            [
             0.2222222222222222,
             "#7201a8"
            ],
            [
             0.3333333333333333,
             "#9c179e"
            ],
            [
             0.4444444444444444,
             "#bd3786"
            ],
            [
             0.5555555555555556,
             "#d8576b"
            ],
            [
             0.6666666666666666,
             "#ed7953"
            ],
            [
             0.7777777777777778,
             "#fb9f3a"
            ],
            [
             0.8888888888888888,
             "#fdca26"
            ],
            [
             1.0,
             "#f0f921"
            ]
           ],
           "diverging": [
            [
             0,
             "#8e0152"
            ],
            [
             0.1,
             "#c51b7d"
            ],
            [
             0.2,
             "#de77ae"
            ],
            [
             0.3,
             "#f1b6da"
            ],
            [
             0.4,
             "#fde0ef"
            ],
            [
             0.5,
             "#f7f7f7"
            ],
            [
             0.6,
             "#e6f5d0"
            ],
            [
             0.7,
             "#b8e186"
            ],
            [
             0.8,
             "#7fbc41"
            ],
            [
             0.9,
             "#4d9221"
            ],
            [
             1,
             "#276419"
            ]
           ]
          },
          "xaxis": {
           "gridcolor": "white",
           "linecolor": "white",
           "ticks": "",
           "title": {
            "standoff": 15
           },
           "zerolinecolor": "white",
           "automargin": true,
           "zerolinewidth": 2
          },
          "yaxis": {
           "gridcolor": "white",
           "linecolor": "white",
           "ticks": "",
           "title": {
            "standoff": 15
           },
           "zerolinecolor": "white",
           "automargin": true,
           "zerolinewidth": 2
          },
          "scene": {
           "xaxis": {
            "backgroundcolor": "#E5ECF6",
            "gridcolor": "white",
            "linecolor": "white",
            "showbackground": true,
            "ticks": "",
            "zerolinecolor": "white",
            "gridwidth": 2
           },
           "yaxis": {
            "backgroundcolor": "#E5ECF6",
            "gridcolor": "white",
            "linecolor": "white",
            "showbackground": true,
            "ticks": "",
            "zerolinecolor": "white",
            "gridwidth": 2
           },
           "zaxis": {
            "backgroundcolor": "#E5ECF6",
            "gridcolor": "white",
            "linecolor": "white",
            "showbackground": true,
            "ticks": "",
            "zerolinecolor": "white",
            "gridwidth": 2
           }
          },
          "shapedefaults": {
           "line": {
            "color": "#2a3f5f"
           }
          },
          "annotationdefaults": {
           "arrowcolor": "#2a3f5f",
           "arrowhead": 0,
           "arrowwidth": 1
          },
          "geo": {
           "bgcolor": "white",
           "landcolor": "#E5ECF6",
           "subunitcolor": "white",
           "showland": true,
           "showlakes": true,
           "lakecolor": "white"
          },
          "title": {
           "x": 0.05
          },
          "mapbox": {
           "style": "light"
          }
         }
        },
        "xaxis": {
         "anchor": "y",
         "domain": [
          0.0,
          1.0
         ],
         "title": {
          "text": "Score"
         }
        },
        "yaxis": {
         "anchor": "x",
         "domain": [
          0.0,
          1.0
         ],
         "title": {
          "text": "Count"
         }
        },
        "legend": {
         "tracegroupgap": 0
        },
        "margin": {
         "t": 60
        },
        "barmode": "relative",
        "title": {
         "text": "Reddit Posts' Scores 2-20 Histogram"
        }
       },
       "config": {
        "plotlyServerURL": "https://plot.ly"
       }
      },
      "text/html": "<div>                            <div id=\"bfde36e5-00db-4108-a4cc-059105bf615c\" class=\"plotly-graph-div\" style=\"height:525px; width:100%;\"></div>            <script type=\"text/javascript\">                require([\"plotly\"], function(Plotly) {                    window.PLOTLYENV=window.PLOTLYENV || {};                                    if (document.getElementById(\"bfde36e5-00db-4108-a4cc-059105bf615c\")) {                    Plotly.newPlot(                        \"bfde36e5-00db-4108-a4cc-059105bf615c\",                        [{\"alignmentgroup\":\"True\",\"hovertemplate\":\"x=%{x}<br>y=%{y}<extra></extra>\",\"legendgroup\":\"\",\"marker\":{\"color\":\"indianred\",\"pattern\":{\"shape\":\"\"}},\"name\":\"\",\"offsetgroup\":\"\",\"orientation\":\"v\",\"showlegend\":false,\"textposition\":\"outside\",\"x\":[2,3,4,5,6,7,8,9,10,11,12,13,14,15,16,17,18,19],\"xaxis\":\"x\",\"y\":[11764,9174,6755,6020,5134,4267,3461,2950,2568,2143,1893,1675,1495,1238,1187,1098,1002,1781],\"yaxis\":\"y\",\"type\":\"bar\",\"texttemplate\":\"%{y:.2s}\"}],                        {\"template\":{\"data\":{\"histogram2dcontour\":[{\"type\":\"histogram2dcontour\",\"colorbar\":{\"outlinewidth\":0,\"ticks\":\"\"},\"colorscale\":[[0.0,\"#0d0887\"],[0.1111111111111111,\"#46039f\"],[0.2222222222222222,\"#7201a8\"],[0.3333333333333333,\"#9c179e\"],[0.4444444444444444,\"#bd3786\"],[0.5555555555555556,\"#d8576b\"],[0.6666666666666666,\"#ed7953\"],[0.7777777777777778,\"#fb9f3a\"],[0.8888888888888888,\"#fdca26\"],[1.0,\"#f0f921\"]]}],\"choropleth\":[{\"type\":\"choropleth\",\"colorbar\":{\"outlinewidth\":0,\"ticks\":\"\"}}],\"histogram2d\":[{\"type\":\"histogram2d\",\"colorbar\":{\"outlinewidth\":0,\"ticks\":\"\"},\"colorscale\":[[0.0,\"#0d0887\"],[0.1111111111111111,\"#46039f\"],[0.2222222222222222,\"#7201a8\"],[0.3333333333333333,\"#9c179e\"],[0.4444444444444444,\"#bd3786\"],[0.5555555555555556,\"#d8576b\"],[0.6666666666666666,\"#ed7953\"],[0.7777777777777778,\"#fb9f3a\"],[0.8888888888888888,\"#fdca26\"],[1.0,\"#f0f921\"]]}],\"heatmap\":[{\"type\":\"heatmap\",\"colorbar\":{\"outlinewidth\":0,\"ticks\":\"\"},\"colorscale\":[[0.0,\"#0d0887\"],[0.1111111111111111,\"#46039f\"],[0.2222222222222222,\"#7201a8\"],[0.3333333333333333,\"#9c179e\"],[0.4444444444444444,\"#bd3786\"],[0.5555555555555556,\"#d8576b\"],[0.6666666666666666,\"#ed7953\"],[0.7777777777777778,\"#fb9f3a\"],[0.8888888888888888,\"#fdca26\"],[1.0,\"#f0f921\"]]}],\"heatmapgl\":[{\"type\":\"heatmapgl\",\"colorbar\":{\"outlinewidth\":0,\"ticks\":\"\"},\"colorscale\":[[0.0,\"#0d0887\"],[0.1111111111111111,\"#46039f\"],[0.2222222222222222,\"#7201a8\"],[0.3333333333333333,\"#9c179e\"],[0.4444444444444444,\"#bd3786\"],[0.5555555555555556,\"#d8576b\"],[0.6666666666666666,\"#ed7953\"],[0.7777777777777778,\"#fb9f3a\"],[0.8888888888888888,\"#fdca26\"],[1.0,\"#f0f921\"]]}],\"contourcarpet\":[{\"type\":\"contourcarpet\",\"colorbar\":{\"outlinewidth\":0,\"ticks\":\"\"}}],\"contour\":[{\"type\":\"contour\",\"colorbar\":{\"outlinewidth\":0,\"ticks\":\"\"},\"colorscale\":[[0.0,\"#0d0887\"],[0.1111111111111111,\"#46039f\"],[0.2222222222222222,\"#7201a8\"],[0.3333333333333333,\"#9c179e\"],[0.4444444444444444,\"#bd3786\"],[0.5555555555555556,\"#d8576b\"],[0.6666666666666666,\"#ed7953\"],[0.7777777777777778,\"#fb9f3a\"],[0.8888888888888888,\"#fdca26\"],[1.0,\"#f0f921\"]]}],\"surface\":[{\"type\":\"surface\",\"colorbar\":{\"outlinewidth\":0,\"ticks\":\"\"},\"colorscale\":[[0.0,\"#0d0887\"],[0.1111111111111111,\"#46039f\"],[0.2222222222222222,\"#7201a8\"],[0.3333333333333333,\"#9c179e\"],[0.4444444444444444,\"#bd3786\"],[0.5555555555555556,\"#d8576b\"],[0.6666666666666666,\"#ed7953\"],[0.7777777777777778,\"#fb9f3a\"],[0.8888888888888888,\"#fdca26\"],[1.0,\"#f0f921\"]]}],\"mesh3d\":[{\"type\":\"mesh3d\",\"colorbar\":{\"outlinewidth\":0,\"ticks\":\"\"}}],\"scatter\":[{\"fillpattern\":{\"fillmode\":\"overlay\",\"size\":10,\"solidity\":0.2},\"type\":\"scatter\"}],\"parcoords\":[{\"type\":\"parcoords\",\"line\":{\"colorbar\":{\"outlinewidth\":0,\"ticks\":\"\"}}}],\"scatterpolargl\":[{\"type\":\"scatterpolargl\",\"marker\":{\"colorbar\":{\"outlinewidth\":0,\"ticks\":\"\"}}}],\"bar\":[{\"error_x\":{\"color\":\"#2a3f5f\"},\"error_y\":{\"color\":\"#2a3f5f\"},\"marker\":{\"line\":{\"color\":\"#E5ECF6\",\"width\":0.5},\"pattern\":{\"fillmode\":\"overlay\",\"size\":10,\"solidity\":0.2}},\"type\":\"bar\"}],\"scattergeo\":[{\"type\":\"scattergeo\",\"marker\":{\"colorbar\":{\"outlinewidth\":0,\"ticks\":\"\"}}}],\"scatterpolar\":[{\"type\":\"scatterpolar\",\"marker\":{\"colorbar\":{\"outlinewidth\":0,\"ticks\":\"\"}}}],\"histogram\":[{\"marker\":{\"pattern\":{\"fillmode\":\"overlay\",\"size\":10,\"solidity\":0.2}},\"type\":\"histogram\"}],\"scattergl\":[{\"type\":\"scattergl\",\"marker\":{\"colorbar\":{\"outlinewidth\":0,\"ticks\":\"\"}}}],\"scatter3d\":[{\"type\":\"scatter3d\",\"line\":{\"colorbar\":{\"outlinewidth\":0,\"ticks\":\"\"}},\"marker\":{\"colorbar\":{\"outlinewidth\":0,\"ticks\":\"\"}}}],\"scattermapbox\":[{\"type\":\"scattermapbox\",\"marker\":{\"colorbar\":{\"outlinewidth\":0,\"ticks\":\"\"}}}],\"scatterternary\":[{\"type\":\"scatterternary\",\"marker\":{\"colorbar\":{\"outlinewidth\":0,\"ticks\":\"\"}}}],\"scattercarpet\":[{\"type\":\"scattercarpet\",\"marker\":{\"colorbar\":{\"outlinewidth\":0,\"ticks\":\"\"}}}],\"carpet\":[{\"aaxis\":{\"endlinecolor\":\"#2a3f5f\",\"gridcolor\":\"white\",\"linecolor\":\"white\",\"minorgridcolor\":\"white\",\"startlinecolor\":\"#2a3f5f\"},\"baxis\":{\"endlinecolor\":\"#2a3f5f\",\"gridcolor\":\"white\",\"linecolor\":\"white\",\"minorgridcolor\":\"white\",\"startlinecolor\":\"#2a3f5f\"},\"type\":\"carpet\"}],\"table\":[{\"cells\":{\"fill\":{\"color\":\"#EBF0F8\"},\"line\":{\"color\":\"white\"}},\"header\":{\"fill\":{\"color\":\"#C8D4E3\"},\"line\":{\"color\":\"white\"}},\"type\":\"table\"}],\"barpolar\":[{\"marker\":{\"line\":{\"color\":\"#E5ECF6\",\"width\":0.5},\"pattern\":{\"fillmode\":\"overlay\",\"size\":10,\"solidity\":0.2}},\"type\":\"barpolar\"}],\"pie\":[{\"automargin\":true,\"type\":\"pie\"}]},\"layout\":{\"autotypenumbers\":\"strict\",\"colorway\":[\"#636efa\",\"#EF553B\",\"#00cc96\",\"#ab63fa\",\"#FFA15A\",\"#19d3f3\",\"#FF6692\",\"#B6E880\",\"#FF97FF\",\"#FECB52\"],\"font\":{\"color\":\"#2a3f5f\"},\"hovermode\":\"closest\",\"hoverlabel\":{\"align\":\"left\"},\"paper_bgcolor\":\"white\",\"plot_bgcolor\":\"#E5ECF6\",\"polar\":{\"bgcolor\":\"#E5ECF6\",\"angularaxis\":{\"gridcolor\":\"white\",\"linecolor\":\"white\",\"ticks\":\"\"},\"radialaxis\":{\"gridcolor\":\"white\",\"linecolor\":\"white\",\"ticks\":\"\"}},\"ternary\":{\"bgcolor\":\"#E5ECF6\",\"aaxis\":{\"gridcolor\":\"white\",\"linecolor\":\"white\",\"ticks\":\"\"},\"baxis\":{\"gridcolor\":\"white\",\"linecolor\":\"white\",\"ticks\":\"\"},\"caxis\":{\"gridcolor\":\"white\",\"linecolor\":\"white\",\"ticks\":\"\"}},\"coloraxis\":{\"colorbar\":{\"outlinewidth\":0,\"ticks\":\"\"}},\"colorscale\":{\"sequential\":[[0.0,\"#0d0887\"],[0.1111111111111111,\"#46039f\"],[0.2222222222222222,\"#7201a8\"],[0.3333333333333333,\"#9c179e\"],[0.4444444444444444,\"#bd3786\"],[0.5555555555555556,\"#d8576b\"],[0.6666666666666666,\"#ed7953\"],[0.7777777777777778,\"#fb9f3a\"],[0.8888888888888888,\"#fdca26\"],[1.0,\"#f0f921\"]],\"sequentialminus\":[[0.0,\"#0d0887\"],[0.1111111111111111,\"#46039f\"],[0.2222222222222222,\"#7201a8\"],[0.3333333333333333,\"#9c179e\"],[0.4444444444444444,\"#bd3786\"],[0.5555555555555556,\"#d8576b\"],[0.6666666666666666,\"#ed7953\"],[0.7777777777777778,\"#fb9f3a\"],[0.8888888888888888,\"#fdca26\"],[1.0,\"#f0f921\"]],\"diverging\":[[0,\"#8e0152\"],[0.1,\"#c51b7d\"],[0.2,\"#de77ae\"],[0.3,\"#f1b6da\"],[0.4,\"#fde0ef\"],[0.5,\"#f7f7f7\"],[0.6,\"#e6f5d0\"],[0.7,\"#b8e186\"],[0.8,\"#7fbc41\"],[0.9,\"#4d9221\"],[1,\"#276419\"]]},\"xaxis\":{\"gridcolor\":\"white\",\"linecolor\":\"white\",\"ticks\":\"\",\"title\":{\"standoff\":15},\"zerolinecolor\":\"white\",\"automargin\":true,\"zerolinewidth\":2},\"yaxis\":{\"gridcolor\":\"white\",\"linecolor\":\"white\",\"ticks\":\"\",\"title\":{\"standoff\":15},\"zerolinecolor\":\"white\",\"automargin\":true,\"zerolinewidth\":2},\"scene\":{\"xaxis\":{\"backgroundcolor\":\"#E5ECF6\",\"gridcolor\":\"white\",\"linecolor\":\"white\",\"showbackground\":true,\"ticks\":\"\",\"zerolinecolor\":\"white\",\"gridwidth\":2},\"yaxis\":{\"backgroundcolor\":\"#E5ECF6\",\"gridcolor\":\"white\",\"linecolor\":\"white\",\"showbackground\":true,\"ticks\":\"\",\"zerolinecolor\":\"white\",\"gridwidth\":2},\"zaxis\":{\"backgroundcolor\":\"#E5ECF6\",\"gridcolor\":\"white\",\"linecolor\":\"white\",\"showbackground\":true,\"ticks\":\"\",\"zerolinecolor\":\"white\",\"gridwidth\":2}},\"shapedefaults\":{\"line\":{\"color\":\"#2a3f5f\"}},\"annotationdefaults\":{\"arrowcolor\":\"#2a3f5f\",\"arrowhead\":0,\"arrowwidth\":1},\"geo\":{\"bgcolor\":\"white\",\"landcolor\":\"#E5ECF6\",\"subunitcolor\":\"white\",\"showland\":true,\"showlakes\":true,\"lakecolor\":\"white\"},\"title\":{\"x\":0.05},\"mapbox\":{\"style\":\"light\"}}},\"xaxis\":{\"anchor\":\"y\",\"domain\":[0.0,1.0],\"title\":{\"text\":\"Score\"}},\"yaxis\":{\"anchor\":\"x\",\"domain\":[0.0,1.0],\"title\":{\"text\":\"Count\"}},\"legend\":{\"tracegroupgap\":0},\"margin\":{\"t\":60},\"barmode\":\"relative\",\"title\":{\"text\":\"Reddit Posts' Scores 2-20 Histogram\"}},                        {\"responsive\": true}                    ).then(function(){\n                            \nvar gd = document.getElementById('bfde36e5-00db-4108-a4cc-059105bf615c');\nvar x = new MutationObserver(function (mutations, observer) {{\n        var display = window.getComputedStyle(gd).display;\n        if (!display || display === 'none') {{\n            console.log([gd, 'removed!']);\n            Plotly.purge(gd);\n            observer.disconnect();\n        }}\n}});\n\n// Listen for the removal of the full notebook cells\nvar notebookContainer = gd.closest('#notebook-container');\nif (notebookContainer) {{\n    x.observe(notebookContainer, {childList: true});\n}}\n\n// Listen for the clearing of the current output cell\nvar outputEl = gd.closest('.output');\nif (outputEl) {{\n    x.observe(outputEl, {childList: true});\n}}\n\n                        })                };                });            </script>        </div>"
     },
     "metadata": {},
     "output_type": "display_data"
    }
   ],
   "source": [
    "import plotly.express as px\n",
    "counts, bins = np.histogram(df_redadj.score, bins=range(2, 21, 1))\n",
    "fig = px.bar(y=counts, x=bins[:-1], color_discrete_sequence=['indianred'])\n",
    "fig.update_traces(texttemplate='%{y:.2s}', textposition='outside')\n",
    "# fig.update_layout(uniformtext_minsize=8, uniformtext_mode='hide')\n",
    "fig.update_layout(\n",
    "    xaxis_title=\"Score\",\n",
    "    yaxis_title=\"Count\",\n",
    "    title=\"Reddit Posts' Scores 2-20 Histogram\"\n",
    ")\n",
    "fig.show()"
   ],
   "metadata": {
    "collapsed": false,
    "pycharm": {
     "name": "#%%\n"
    }
   }
  },
  {
   "cell_type": "code",
   "execution_count": null,
   "outputs": [],
   "source": [
    "import plotly.express as px\n",
    "counts, bins = np.histogram(df_redadj.score, bins=range(np.min(df_redadj.score), np.max(df_redadj.score), 1000))\n",
    "fig = px.bar(y=counts, x=bins[:-1], color_discrete_sequence=['indianred'])\n",
    "fig.update_traces(texttemplate='%{y:.2s}', textposition='outside')\n",
    "# fig.update_layout(uniformtext_minsize=8, uniformtext_mode='hide')\n",
    "fig.update_layout(\n",
    "    xaxis_title=\"Score\",\n",
    "    yaxis_title=\"Count\",\n",
    "    title=\"Reddit Posts' Scores Histogram\"\n",
    ")\n",
    "fig.show()"
   ],
   "metadata": {
    "collapsed": false,
    "pycharm": {
     "name": "#%%\n",
     "is_executing": true
    }
   }
  },
  {
   "cell_type": "code",
   "execution_count": 106,
   "outputs": [
    {
     "name": "stdout",
     "output_type": "stream",
     "text": [
      "Reddit Dad Jokes scores greater than 20 = 22201\n"
     ]
    }
   ],
   "source": [
    "print(f'Reddit Dad Jokes scores greater than 20 = {len(df_redadj[df_redadj.score > 20])}')"
   ],
   "metadata": {
    "collapsed": false,
    "pycharm": {
     "name": "#%%\n"
    }
   }
  },
  {
   "cell_type": "code",
   "execution_count": 111,
   "outputs": [],
   "source": [
    "scores_stat_list = []\n",
    "for score in range(3, 20):\n",
    "    df_redadj_gre_score = df_redadj[df_redadj['score'] >= score]\n",
    "    scores_stat_list.append({'sentence_length': \"%.2f\" % np.mean(df_redadj_gre_score['joke'].apply(lambda s: len(s))),\n",
    "                               'count': len(df_redadj_gre_score),\n",
    "                             'score': score})\n",
    "\n",
    "scores_stat_df_2 = pd.DataFrame(scores_stat_list)"
   ],
   "metadata": {
    "collapsed": false,
    "pycharm": {
     "name": "#%%\n"
    }
   }
  },
  {
   "cell_type": "code",
   "execution_count": null,
   "outputs": [],
   "source": [
    "# Create a histogram with Plotly Express\n",
    "fig = px.histogram(scores_stat_df_2, y='score', x='sentence_length')\n",
    "\n",
    "# Customize layout\n",
    "fig.update_layout(\n",
    "    title=\"Histogram of Multiple Columns\",\n",
    "    xaxis_title=\"Score >=\",\n",
    "    yaxis_title=\"Average Sentence Length\"\n",
    ")\n",
    "\n",
    "# Display the plot\n",
    "fig.show()\n"
   ],
   "metadata": {
    "collapsed": false,
    "pycharm": {
     "name": "#%%\n",
     "is_executing": true
    }
   }
  },
  {
   "cell_type": "code",
   "execution_count": null,
   "outputs": [],
   "source": [
    "# Create a histogram with Plotly Express\n",
    "fig = px.histogram(scores_stat_df_2, x='score', y='count', nbins=20)\n",
    "\n",
    "fig.update_traces(text=scores_stat_df_2['count'], texttemplate='%{text}', textposition='outside')\n",
    "\n",
    "\n",
    "\n",
    "# fig.update_traces(texttemplate='%{y}', textposition='outside')\n",
    "\n",
    "# Customize layout\n",
    "fig.update_layout(\n",
    "    title=\"Histogram of Multiple Columns\",\n",
    "    xaxis_title=\"Score >=\",\n",
    "    yaxis_title=\"Average Sentence Length\",\n",
    "    bargap=0.15,\n",
    ")\n",
    "\n",
    "# Display the plot\n",
    "fig.show()"
   ],
   "metadata": {
    "collapsed": false,
    "pycharm": {
     "name": "#%%\n",
     "is_executing": true
    }
   }
  },
  {
   "cell_type": "markdown",
   "source": [
    "## Create Sample of Grammar Dataset"
   ],
   "metadata": {
    "collapsed": false
   }
  },
  {
   "cell_type": "code",
   "source": [
    "df_grammar = pd.read_csv(path + 'grammar_error/data.csv')\n",
    "df_grammar_sample = df_grammar[df_grammar['label'] == 1]\n",
    "df_grammar_sample = df_grammar_sample.sample(random_state=0, n=300)"
   ],
   "metadata": {
    "collapsed": false,
    "pycharm": {
     "name": "#%%\n"
    }
   },
   "execution_count": 149,
   "outputs": []
  },
  {
   "cell_type": "code",
   "execution_count": 151,
   "outputs": [],
   "source": [
    "df_grammar_sample.to_csv(path + 'grammar_error/grammar_300_samples.csv', index=False)"
   ],
   "metadata": {
    "collapsed": false,
    "pycharm": {
     "name": "#%%\n"
    }
   }
  },
  {
   "cell_type": "markdown",
   "source": [
    "## Analyzing Yelp Reviews"
   ],
   "metadata": {
    "collapsed": false,
    "pycharm": {
     "name": "#%% md\n"
    }
   }
  },
  {
   "cell_type": "code",
   "execution_count": 31,
   "outputs": [],
   "source": [
    "import pandas as pd\n",
    "import numpy as np\n",
    "\n",
    "path = './Data/new_humor_datasets/'\n",
    "yelp_path = path + 'yelp_reviews/'"
   ],
   "metadata": {
    "collapsed": false,
    "pycharm": {
     "name": "#%%\n"
    }
   }
  },
  {
   "cell_type": "markdown",
   "source": [
    "#### Analyze by length & funny score"
   ],
   "metadata": {
    "collapsed": false,
    "pycharm": {
     "name": "#%% md\n"
    }
   }
  },
  {
   "cell_type": "code",
   "execution_count": 35,
   "outputs": [],
   "source": [
    "df_yelp_funny_all = pd.read_csv(yelp_path + 'all_funny_reviews_over_5.csv')\n",
    "df_yelp_funny_all['sentence_length'] = df_yelp_funny_all['text'].apply(lambda t: len(t))"
   ],
   "metadata": {
    "collapsed": false,
    "pycharm": {
     "name": "#%%\n"
    }
   }
  },
  {
   "cell_type": "code",
   "execution_count": 43,
   "outputs": [
    {
     "name": "stdout",
     "output_type": "stream",
     "text": [
      "For score 5, all length:\n",
      "Count = 84512\n",
      "Mean length = 1231.02, Median length = 1004.00\n",
      "\n",
      "For score 5, max_length 500:\n",
      "Count = 15728\n",
      "Mean length = 321.49, Median length = 334.00\n",
      "\n",
      "For score 5, max_length 1000:\n",
      "Count = 42097\n",
      "Mean length = 590.03, Median length = 605.00\n",
      "\n",
      "For score 6, all length:\n",
      "Count = 59789\n",
      "Mean length = 1270.10, Median length = 1039.00\n",
      "\n",
      "For score 6, max_length 500:\n",
      "Count = 10402\n",
      "Mean length = 322.81, Median length = 335.00\n",
      "\n",
      "For score 6, max_length 1000:\n",
      "Count = 28606\n",
      "Mean length = 596.10, Median length = 613.00\n",
      "\n",
      "For score 7, all length:\n",
      "Count = 44244\n",
      "Mean length = 1302.87, Median length = 1068.00\n",
      "\n",
      "For score 7, max_length 500:\n",
      "Count = 7305\n",
      "Mean length = 324.44, Median length = 337.00\n",
      "\n",
      "For score 7, max_length 1000:\n",
      "Count = 20477\n",
      "Mean length = 601.45, Median length = 621.00\n",
      "\n",
      "For score 8, all length:\n",
      "Count = 34066\n",
      "Mean length = 1327.52, Median length = 1089.00\n",
      "\n",
      "For score 8, max_length 500:\n",
      "Count = 5393\n",
      "Mean length = 325.12, Median length = 339.00\n",
      "\n",
      "For score 8, max_length 1000:\n",
      "Count = 15351\n",
      "Mean length = 605.12, Median length = 627.00\n",
      "\n",
      "For score 9, all length:\n",
      "Count = 26919\n",
      "Mean length = 1346.81, Median length = 1106.00\n",
      "\n",
      "For score 9, max_length 500:\n",
      "Count = 4109\n",
      "Mean length = 324.82, Median length = 338.00\n",
      "\n",
      "For score 9, max_length 1000:\n",
      "Count = 11863\n",
      "Mean length = 608.14, Median length = 632.00\n",
      "\n",
      "For score 10, all length:\n",
      "Count = 21696\n",
      "Mean length = 1357.69, Median length = 1119.00\n",
      "\n",
      "For score 10, max_length 500:\n",
      "Count = 3240\n",
      "Mean length = 325.46, Median length = 338.00\n",
      "\n",
      "For score 10, max_length 1000:\n",
      "Count = 9406\n",
      "Mean length = 610.85, Median length = 635.50\n",
      "\n"
     ]
    }
   ],
   "source": [
    "funny_scores = range(5, 11)\n",
    "sentence_lengths = [500, 1000]\n",
    "result_list = []\n",
    "\n",
    "for score in funny_scores:\n",
    "    df_yelp_score = df_yelp_funny_all[df_yelp_funny_all['funny'] >= score]\n",
    "\n",
    "    # print(f'For score {score}, all length:')\n",
    "    # print(f'Count = {len(df_yelp_score)}')\n",
    "    # print(f'Mean length = {\"%.2f\" % np.mean(df_yelp_score.sentence_length)}, Median length = {\"%.2f\" % np.median(df_yelp_score.sentence_length)}')\n",
    "    # print()\n",
    "\n",
    "    result_list.append({'Score': score, 'Length': 'All', 'Count': len(df_yelp_score),\n",
    "                        'Mean_length': \"%.2f\" % np.mean(df_yelp_score.sentence_length),\n",
    "                        'Median_length': \"%.2f\" % np.median(df_yelp_score.sentence_length)})\n",
    "\n",
    "    for length in sentence_lengths:\n",
    "        df_yelp_curr = df_yelp_score[df_yelp_score['sentence_length'] <= length]\n",
    "        # print(f'For score {score}, max_length {length}:')\n",
    "        # print(f'Count = {len(df_yelp_curr)}')\n",
    "        # print(f'Mean length = {\"%.2f\" % np.mean(df_yelp_curr.sentence_length)}, Median length = {\"%.2f\" % np.median(df_yelp_curr.sentence_length)}')\n",
    "        # print()\n",
    "\n",
    "        result_list.append({'Score': score, 'Length': length, 'Count': len(df_yelp_curr),\n",
    "                        'Mean_length': \"%.2f\" % np.mean(df_yelp_curr.sentence_length),\n",
    "                        'Median_length': \"%.2f\" % np.median(df_yelp_curr.sentence_length)})\n",
    "\n"
   ],
   "metadata": {
    "collapsed": false,
    "pycharm": {
     "name": "#%%\n"
    }
   }
  },
  {
   "cell_type": "code",
   "execution_count": 45,
   "outputs": [],
   "source": [
    "df_yelp_stats = pd.DataFrame(result_list)\n",
    "df_yelp_stats.to_csv(yelp_path + 'distribution_score_length.csv', index=False)"
   ],
   "metadata": {
    "collapsed": false,
    "pycharm": {
     "name": "#%%\n"
    }
   }
  },
  {
   "cell_type": "code",
   "execution_count": 48,
   "outputs": [],
   "source": [
    "# create sample to Dafna\n",
    "\n",
    "df_yelp_over_10 = df_yelp_funny_all[df_yelp_funny_all['funny'] >= 10]\n",
    "df_yelp_over_10 = df_yelp_over_10.iloc[:200]\n",
    "df_yelp_over_10.to_csv(yelp_path + 'funny_over_10_sample.csv', index=False)"
   ],
   "metadata": {
    "collapsed": false,
    "pycharm": {
     "name": "#%%\n"
    }
   }
  },
  {
   "cell_type": "markdown",
   "source": [
    "#### Histograms by sentence length"
   ],
   "metadata": {
    "collapsed": false,
    "pycharm": {
     "name": "#%% md\n"
    }
   }
  },
  {
   "cell_type": "code",
   "execution_count": 32,
   "outputs": [],
   "source": [
    "# df_yelp_funny = pd.read_csv(yelp_path + 'funny_reviews_over_10.csv') # for long\n",
    "df_yelp_funny = pd.read_csv(yelp_path + 'funny_reviews_over_5_short.csv') # for short\n",
    "df_yelp_funny['sentence_length'] = df_yelp_funny['text'].apply(lambda t: len(t))\n",
    "df_yelp_funny['label'] = 1\n",
    "# print_df_labels_stat(df_yelp, 'yelp_reviews', 'sentence')"
   ],
   "metadata": {
    "collapsed": false,
    "pycharm": {
     "name": "#%%\n"
    }
   }
  },
  {
   "cell_type": "code",
   "execution_count": 33,
   "outputs": [
    {
     "ename": "KeyError",
     "evalue": "'text'",
     "output_type": "error",
     "traceback": [
      "\u001B[1;31m---------------------------------------------------------------------------\u001B[0m",
      "\u001B[1;31mKeyError\u001B[0m                                  Traceback (most recent call last)",
      "\u001B[1;32m~\\anaconda3\\lib\\site-packages\\pandas\\core\\indexes\\base.py\u001B[0m in \u001B[0;36mget_loc\u001B[1;34m(self, key, method, tolerance)\u001B[0m\n\u001B[0;32m   3360\u001B[0m             \u001B[1;32mtry\u001B[0m\u001B[1;33m:\u001B[0m\u001B[1;33m\u001B[0m\u001B[1;33m\u001B[0m\u001B[0m\n\u001B[1;32m-> 3361\u001B[1;33m                 \u001B[1;32mreturn\u001B[0m \u001B[0mself\u001B[0m\u001B[1;33m.\u001B[0m\u001B[0m_engine\u001B[0m\u001B[1;33m.\u001B[0m\u001B[0mget_loc\u001B[0m\u001B[1;33m(\u001B[0m\u001B[0mcasted_key\u001B[0m\u001B[1;33m)\u001B[0m\u001B[1;33m\u001B[0m\u001B[1;33m\u001B[0m\u001B[0m\n\u001B[0m\u001B[0;32m   3362\u001B[0m             \u001B[1;32mexcept\u001B[0m \u001B[0mKeyError\u001B[0m \u001B[1;32mas\u001B[0m \u001B[0merr\u001B[0m\u001B[1;33m:\u001B[0m\u001B[1;33m\u001B[0m\u001B[1;33m\u001B[0m\u001B[0m\n",
      "\u001B[1;32m~\\anaconda3\\lib\\site-packages\\pandas\\_libs\\index.pyx\u001B[0m in \u001B[0;36mpandas._libs.index.IndexEngine.get_loc\u001B[1;34m()\u001B[0m\n",
      "\u001B[1;32m~\\anaconda3\\lib\\site-packages\\pandas\\_libs\\index.pyx\u001B[0m in \u001B[0;36mpandas._libs.index.IndexEngine.get_loc\u001B[1;34m()\u001B[0m\n",
      "\u001B[1;32mpandas\\_libs\\hashtable_class_helper.pxi\u001B[0m in \u001B[0;36mpandas._libs.hashtable.PyObjectHashTable.get_item\u001B[1;34m()\u001B[0m\n",
      "\u001B[1;32mpandas\\_libs\\hashtable_class_helper.pxi\u001B[0m in \u001B[0;36mpandas._libs.hashtable.PyObjectHashTable.get_item\u001B[1;34m()\u001B[0m\n",
      "\u001B[1;31mKeyError\u001B[0m: 'text'",
      "\nThe above exception was the direct cause of the following exception:\n",
      "\u001B[1;31mKeyError\u001B[0m                                  Traceback (most recent call last)",
      "\u001B[1;32m~\\AppData\\Local\\Temp/ipykernel_26564/1502651085.py\u001B[0m in \u001B[0;36m<module>\u001B[1;34m\u001B[0m\n\u001B[0;32m      1\u001B[0m \u001B[1;32mimport\u001B[0m \u001B[0mplotly\u001B[0m\u001B[1;33m.\u001B[0m\u001B[0mexpress\u001B[0m \u001B[1;32mas\u001B[0m \u001B[0mpx\u001B[0m\u001B[1;33m\u001B[0m\u001B[1;33m\u001B[0m\u001B[0m\n\u001B[0;32m      2\u001B[0m \u001B[1;33m\u001B[0m\u001B[0m\n\u001B[1;32m----> 3\u001B[1;33m \u001B[0mdf_yelp\u001B[0m\u001B[1;33m[\u001B[0m\u001B[1;34m'sentence_length'\u001B[0m\u001B[1;33m]\u001B[0m \u001B[1;33m=\u001B[0m \u001B[0mdf_yelp\u001B[0m\u001B[1;33m[\u001B[0m\u001B[1;34m'text'\u001B[0m\u001B[1;33m]\u001B[0m\u001B[1;33m.\u001B[0m\u001B[0mapply\u001B[0m\u001B[1;33m(\u001B[0m\u001B[1;32mlambda\u001B[0m \u001B[0mt\u001B[0m\u001B[1;33m:\u001B[0m \u001B[0mlen\u001B[0m\u001B[1;33m(\u001B[0m\u001B[0mt\u001B[0m\u001B[1;33m)\u001B[0m\u001B[1;33m)\u001B[0m\u001B[1;33m\u001B[0m\u001B[1;33m\u001B[0m\u001B[0m\n\u001B[0m\u001B[0;32m      4\u001B[0m \u001B[1;33m\u001B[0m\u001B[0m\n\u001B[0;32m      5\u001B[0m \u001B[1;31m# Create a histogram plot using Plotly\u001B[0m\u001B[1;33m\u001B[0m\u001B[1;33m\u001B[0m\u001B[0m\n",
      "\u001B[1;32m~\\anaconda3\\lib\\site-packages\\pandas\\core\\frame.py\u001B[0m in \u001B[0;36m__getitem__\u001B[1;34m(self, key)\u001B[0m\n\u001B[0;32m   3456\u001B[0m             \u001B[1;32mif\u001B[0m \u001B[0mself\u001B[0m\u001B[1;33m.\u001B[0m\u001B[0mcolumns\u001B[0m\u001B[1;33m.\u001B[0m\u001B[0mnlevels\u001B[0m \u001B[1;33m>\u001B[0m \u001B[1;36m1\u001B[0m\u001B[1;33m:\u001B[0m\u001B[1;33m\u001B[0m\u001B[1;33m\u001B[0m\u001B[0m\n\u001B[0;32m   3457\u001B[0m                 \u001B[1;32mreturn\u001B[0m \u001B[0mself\u001B[0m\u001B[1;33m.\u001B[0m\u001B[0m_getitem_multilevel\u001B[0m\u001B[1;33m(\u001B[0m\u001B[0mkey\u001B[0m\u001B[1;33m)\u001B[0m\u001B[1;33m\u001B[0m\u001B[1;33m\u001B[0m\u001B[0m\n\u001B[1;32m-> 3458\u001B[1;33m             \u001B[0mindexer\u001B[0m \u001B[1;33m=\u001B[0m \u001B[0mself\u001B[0m\u001B[1;33m.\u001B[0m\u001B[0mcolumns\u001B[0m\u001B[1;33m.\u001B[0m\u001B[0mget_loc\u001B[0m\u001B[1;33m(\u001B[0m\u001B[0mkey\u001B[0m\u001B[1;33m)\u001B[0m\u001B[1;33m\u001B[0m\u001B[1;33m\u001B[0m\u001B[0m\n\u001B[0m\u001B[0;32m   3459\u001B[0m             \u001B[1;32mif\u001B[0m \u001B[0mis_integer\u001B[0m\u001B[1;33m(\u001B[0m\u001B[0mindexer\u001B[0m\u001B[1;33m)\u001B[0m\u001B[1;33m:\u001B[0m\u001B[1;33m\u001B[0m\u001B[1;33m\u001B[0m\u001B[0m\n\u001B[0;32m   3460\u001B[0m                 \u001B[0mindexer\u001B[0m \u001B[1;33m=\u001B[0m \u001B[1;33m[\u001B[0m\u001B[0mindexer\u001B[0m\u001B[1;33m]\u001B[0m\u001B[1;33m\u001B[0m\u001B[1;33m\u001B[0m\u001B[0m\n",
      "\u001B[1;32m~\\anaconda3\\lib\\site-packages\\pandas\\core\\indexes\\base.py\u001B[0m in \u001B[0;36mget_loc\u001B[1;34m(self, key, method, tolerance)\u001B[0m\n\u001B[0;32m   3361\u001B[0m                 \u001B[1;32mreturn\u001B[0m \u001B[0mself\u001B[0m\u001B[1;33m.\u001B[0m\u001B[0m_engine\u001B[0m\u001B[1;33m.\u001B[0m\u001B[0mget_loc\u001B[0m\u001B[1;33m(\u001B[0m\u001B[0mcasted_key\u001B[0m\u001B[1;33m)\u001B[0m\u001B[1;33m\u001B[0m\u001B[1;33m\u001B[0m\u001B[0m\n\u001B[0;32m   3362\u001B[0m             \u001B[1;32mexcept\u001B[0m \u001B[0mKeyError\u001B[0m \u001B[1;32mas\u001B[0m \u001B[0merr\u001B[0m\u001B[1;33m:\u001B[0m\u001B[1;33m\u001B[0m\u001B[1;33m\u001B[0m\u001B[0m\n\u001B[1;32m-> 3363\u001B[1;33m                 \u001B[1;32mraise\u001B[0m \u001B[0mKeyError\u001B[0m\u001B[1;33m(\u001B[0m\u001B[0mkey\u001B[0m\u001B[1;33m)\u001B[0m \u001B[1;32mfrom\u001B[0m \u001B[0merr\u001B[0m\u001B[1;33m\u001B[0m\u001B[1;33m\u001B[0m\u001B[0m\n\u001B[0m\u001B[0;32m   3364\u001B[0m \u001B[1;33m\u001B[0m\u001B[0m\n\u001B[0;32m   3365\u001B[0m         \u001B[1;32mif\u001B[0m \u001B[0mis_scalar\u001B[0m\u001B[1;33m(\u001B[0m\u001B[0mkey\u001B[0m\u001B[1;33m)\u001B[0m \u001B[1;32mand\u001B[0m \u001B[0misna\u001B[0m\u001B[1;33m(\u001B[0m\u001B[0mkey\u001B[0m\u001B[1;33m)\u001B[0m \u001B[1;32mand\u001B[0m \u001B[1;32mnot\u001B[0m \u001B[0mself\u001B[0m\u001B[1;33m.\u001B[0m\u001B[0mhasnans\u001B[0m\u001B[1;33m:\u001B[0m\u001B[1;33m\u001B[0m\u001B[1;33m\u001B[0m\u001B[0m\n",
      "\u001B[1;31mKeyError\u001B[0m: 'text'"
     ]
    }
   ],
   "source": [
    "import plotly.express as px\n",
    "\n",
    "df_yelp['sentence_length'] = df_yelp['text'].apply(lambda t: len(t))\n",
    "\n",
    "# Create a histogram plot using Plotly\n",
    "fig = px.histogram(df_yelp, x='sentence_length', title='Histogram of Sentence Lengths')\n",
    "fig.show()"
   ],
   "metadata": {
    "collapsed": false,
    "pycharm": {
     "name": "#%%\n"
    }
   }
  },
  {
   "cell_type": "code",
   "execution_count": 12,
   "outputs": [],
   "source": [
    "df_yelp_unfunny = pd.read_csv(yelp_path + 'unfunny_reviews_all.csv')"
   ],
   "metadata": {
    "collapsed": false,
    "pycharm": {
     "name": "#%%\n"
    }
   }
  },
  {
   "cell_type": "code",
   "execution_count": 13,
   "outputs": [],
   "source": [
    "df_yelp_unfunny['sentence_length'] = df_yelp_unfunny['text'].apply(lambda t: len(t))\n",
    "df_yelp_unfunny['label'] = 0\n",
    "\n",
    "\n",
    "# Create a histogram plot using Plotly\n",
    "# fig = px.histogram(df_yelp_unfunny, x='sentence_length', title='Histogram of Sentence Lengths', range_x=[0, 100])\n",
    "# fig.show()"
   ],
   "metadata": {
    "collapsed": false,
    "pycharm": {
     "name": "#%%\n"
    }
   }
  },
  {
   "cell_type": "code",
   "execution_count": 14,
   "outputs": [],
   "source": [
    "# only run for short yelp\n",
    "df_yelp_unfunny = df_yelp_unfunny[df_yelp_unfunny['text'].apply(lambda t: len(t) <= 500)] # for short"
   ],
   "metadata": {
    "collapsed": false,
    "pycharm": {
     "name": "#%%\n"
    }
   }
  },
  {
   "cell_type": "code",
   "execution_count": 15,
   "outputs": [],
   "source": [
    "df_yelp_unfunny_trimmed = df_yelp_unfunny[:len(df_yelp_funny)]\n",
    "df_yelp = df_yelp_funny.append(df_yelp_unfunny_trimmed, ignore_index=True)\n",
    "df_yelp = df_yelp.sample(frac=1, random_state=0, ignore_index=True)\n",
    "df_yelp.rename(columns={'text': 'sentence'}, inplace=True)\n",
    "# df_yelp.to_csv(yelp_path + 'data.csv', index=False) # for long\n",
    "df_yelp.to_csv(yelp_path + 'data_short.csv', index=False) # for short\n"
   ],
   "metadata": {
    "collapsed": false,
    "pycharm": {
     "name": "#%%\n"
    }
   }
  },
  {
   "cell_type": "code",
   "execution_count": 22,
   "outputs": [
    {
     "name": "stdout",
     "output_type": "stream",
     "text": [
      "avg sentence length label 0 = 136.99\n",
      "avg score = 482.20\n",
      "median score = 49.00\n"
     ]
    }
   ],
   "source": [
    "import plotly.express as px\n",
    "\n",
    "fig = px.histogram(df_yelp, x='sentence_length', color='label', title='Histogram of Sentence Lengths')\n",
    "fig.show()"
   ],
   "metadata": {
    "collapsed": false,
    "pycharm": {
     "name": "#%%\n"
    }
   }
  },
  {
   "cell_type": "markdown",
   "source": [
    "## Reddit Dad Jokes - Create 20+ dataset"
   ],
   "metadata": {
    "collapsed": false,
    "pycharm": {
     "name": "#%% md\n"
    }
   }
  },
  {
   "cell_type": "code",
   "source": [
    "dataset_redadj_name = 'reddit_dadjokes'\n",
    "redadj_path = path + dataset_redadj_name + '/'\n",
    "df_redadj = pd.read_csv(redadj_path + 'reddit_dadjokes.csv')"
   ],
   "metadata": {
    "collapsed": false,
    "pycharm": {
     "name": "#%%\n"
    }
   },
   "execution_count": null,
   "outputs": []
  },
  {
   "cell_type": "code",
   "execution_count": 19,
   "outputs": [],
   "source": [
    "df_redadj_over_20 = df_redadj[df_redadj['score'] >= 20]\n",
    "df_redadj_over_20.rename(columns={'joke': 'sentence'}, inplace=True)\n",
    "df_redadj_over_20.to_csv(redadj_path + 'reddit_dadjokes_over_20.csv', index=False)"
   ],
   "metadata": {
    "collapsed": false,
    "pycharm": {
     "name": "#%%\n"
    }
   }
  },
  {
   "cell_type": "code",
   "execution_count": 21,
   "outputs": [
    {
     "name": "stderr",
     "output_type": "stream",
     "text": [
      "C:\\Users\\mortu\\anaconda3\\lib\\site-packages\\pandas\\core\\frame.py:5039: SettingWithCopyWarning:\n",
      "\n",
      "\n",
      "A value is trying to be set on a copy of a slice from a DataFrame\n",
      "\n",
      "See the caveats in the documentation: https://pandas.pydata.org/pandas-docs/stable/user_guide/indexing.html#returning-a-view-versus-a-copy\n",
      "\n"
     ]
    }
   ],
   "source": [
    "print(f'avg sentence length label 0 = {\"%.2f\" %  np.mean(df_redadj_over_20.sentence.apply(lambda s: len(s)))}')\n",
    "print(f'avg score = {\"%.2f\" % np.mean(df_redadj_over_20.score)}')\n",
    "print(f'median score = {\"%.2f\" % np.median(df_redadj_over_20.score)}')"
   ],
   "metadata": {
    "collapsed": false,
    "pycharm": {
     "name": "#%%\n"
    }
   }
  },
  {
   "cell_type": "code",
   "execution_count": 26,
   "outputs": [],
   "source": [
    "from functools import reduce\n",
    "QUESTION_WORDS = ['why', 'when', 'what', 'how', 'who', 'where', 'which', 'do', 'did']\n",
    "\n",
    "def is_question_joke(joke):\n",
    "    joke = joke.lower().strip()\n",
    "    starts_with_quest_word = reduce(lambda acc, word: acc or joke.startswith(word), QUESTION_WORDS, False)\n",
    "    contains_quest_mark = '?' in joke\n",
    "\n",
    "    return starts_with_quest_word and contains_quest_mark"
   ],
   "metadata": {
    "collapsed": false,
    "pycharm": {
     "name": "#%%\n"
    }
   }
  },
  {
   "cell_type": "code",
   "execution_count": 27,
   "outputs": [
    {
     "name": "stdout",
     "output_type": "stream",
     "text": [
      "Question Joke count = 6425, \n",
      "Question Joke percentage = 0.28\n"
     ]
    }
   ],
   "source": [
    "df_redadj_questions = df_redadj_over_20[df_redadj_over_20.sentence.apply(is_question_joke)]\n",
    "print(f'Question Joke count = {len(df_redadj_questions)}, \\n'\n",
    "      f'Question Joke percentage = {\"%.2f\" % (len(df_redadj_questions) / len(df_redadj_over_20))}')"
   ],
   "metadata": {
    "collapsed": false,
    "pycharm": {
     "name": "#%%\n"
    }
   }
  },
  {
   "cell_type": "code",
   "execution_count": 28,
   "outputs": [
    {
     "name": "stdout",
     "output_type": "stream",
     "text": [
      "Not Question Joke count = 16643, \n",
      "Not Question Joke percentage = 0.72\n"
     ]
    }
   ],
   "source": [
    "df_redadj_over_20_no_quest = df_redadj_over_20[df_redadj_over_20['sentence'].apply(lambda x: not is_question_joke(x))]\n",
    "print(f'Not Question Joke count = {len(df_redadj_over_20_no_quest)}, \\n'\n",
    "      f'Not Question Joke percentage = {\"%.2f\" % (len(df_redadj_over_20_no_quest) / len(df_redadj_over_20))}')\n",
    "# df_redadj_over_20_no_quest.to_csv(redadj_path + 'redadj_over_20_no_quest.csv', index=False)"
   ],
   "metadata": {
    "collapsed": false,
    "pycharm": {
     "name": "#%%\n"
    }
   }
  },
  {
   "cell_type": "code",
   "execution_count": 29,
   "outputs": [
    {
     "name": "stdout",
     "output_type": "stream",
     "text": [
      "avg sentence length label 0 = 161.24\n",
      "avg score = 547.95\n",
      "median score = 53.00\n"
     ]
    }
   ],
   "source": [
    "print(f'avg sentence length label 0 = {\"%.2f\" %  np.mean(df_redadj_over_20_no_quest.sentence.apply(lambda s: len(s)))}')\n",
    "print(f'avg score = {\"%.2f\" % np.mean(df_redadj_over_20_no_quest.score)}')\n",
    "print(f'median score = {\"%.2f\" % np.median(df_redadj_over_20_no_quest.score)}')"
   ],
   "metadata": {
    "collapsed": false,
    "pycharm": {
     "name": "#%%\n"
    }
   }
  },
  {
   "cell_type": "code",
   "execution_count": 30,
   "outputs": [],
   "source": [
    "df_redadj_questions.to_csv(redadj_path + 'redadj_over_20_only_questions.csv', index=False)\n",
    "df_redadj_over_20_no_quest.to_csv(redadj_path + 'redadj_over_20_no_questions.csv', index=False)"
   ],
   "metadata": {
    "collapsed": false,
    "pycharm": {
     "name": "#%%\n"
    }
   }
  },
  {
   "cell_type": "markdown",
   "source": [
    "## Remove from amazon the eos token"
   ],
   "metadata": {
    "collapsed": false
   }
  },
  {
   "cell_type": "code",
   "execution_count": 1,
   "outputs": [],
   "source": [
    "import pandas as pd\n",
    "amazon_path = './Data/new_humor_datasets/balanced/amazon/'\n",
    "df = pd.read_csv(amazon_path + 'data.csv')\n"
   ],
   "metadata": {
    "collapsed": false,
    "pycharm": {
     "name": "#%%\n"
    }
   }
  },
  {
   "cell_type": "markdown",
   "source": [
    "## Define other versions to amazon"
   ],
   "metadata": {
    "collapsed": false
   }
  },
  {
   "cell_type": "code",
   "execution_count": 6,
   "outputs": [],
   "source": [
    "## Version 1: trimming from eos ahead\n",
    "df = pd.read_csv(amazon_path + 'data.csv')\n",
    "df['text'] = df['text'].apply(lambda s: s[:s.index('</s>')])\n",
    "df.to_csv(amazon_path + 'data_ver1.csv', index=False)"
   ],
   "metadata": {
    "collapsed": false,
    "pycharm": {
     "name": "#%%\n"
    }
   }
  },
  {
   "cell_type": "code",
   "execution_count": 3,
   "outputs": [],
   "source": [
    "## Version 2: removing only eos (and keeping all the original text)\n",
    "df = pd.read_csv(amazon_path + 'data.csv')\n",
    "df['text'] = df['text'].apply(lambda s: s.replace('</s>', ''))\n",
    "df.to_csv(amazon_path + 'data_ver2.csv', index=False)"
   ],
   "metadata": {
    "collapsed": false,
    "pycharm": {
     "name": "#%%\n"
    }
   }
  },
  {
   "cell_type": "code",
   "execution_count": 4,
   "outputs": [],
   "source": [
    "## Version 3: replacing eos with |||\n",
    "df = pd.read_csv(amazon_path + 'data.csv')\n",
    "df['text'] = df['text'].apply(lambda s: s.replace('</s>', '|||'))\n",
    "df.to_csv(amazon_path + 'data_ver3.csv', index=False)"
   ],
   "metadata": {
    "collapsed": false,
    "pycharm": {
     "name": "#%%\n"
    }
   }
  },
  {
   "cell_type": "code",
   "execution_count": 5,
   "outputs": [],
   "source": [
    "## Version 4: Question: *** Product: ***\n",
    "df = pd.read_csv(amazon_path + 'data.csv')\n",
    "df['text'] = df['text'].apply(lambda s: 'QUESTION: ' + s.replace('</s>', 'PRODUCT:'))\n",
    "df.to_csv(amazon_path + 'data_ver4.csv', index=False)"
   ],
   "metadata": {
    "collapsed": false,
    "pycharm": {
     "name": "#%%\n"
    }
   }
  },
  {
   "cell_type": "code",
   "execution_count": 2,
   "outputs": [],
   "source": [
    "## Version 5: replacing eos with [SEP]\n",
    "df = pd.read_csv(amazon_path + 'data.csv')\n",
    "df['text'] = df['text'].apply(lambda s: s.replace('</s>', '[SEP]'))\n",
    "df.to_csv(amazon_path + 'data_ver5.csv', index=False)"
   ],
   "metadata": {
    "collapsed": false,
    "pycharm": {
     "name": "#%%\n"
    }
   }
  },
  {
   "cell_type": "markdown",
   "source": [
    "## Change amazon text column with new text (add [SEP])"
   ],
   "metadata": {
    "collapsed": false,
    "pycharm": {
     "name": "#%% md\n"
    }
   }
  },
  {
   "cell_type": "code",
   "execution_count": 4,
   "outputs": [],
   "source": [
    "df['text_with_eos'] = df['text']\n",
    "\n",
    "def eos_to_sep(text):\n",
    "    eos_token = '</s>'\n",
    "    sep_token = '[SEP]'\n",
    "    splitted_text = text.split(eos_token)\n",
    "    before_token, after_token = splitted_text[0], splitted_text[1]\n",
    "    new_text = after_token + ' ' + sep_token + ' ' + before_token\n",
    "    return new_text\n",
    "\n",
    "\n",
    "df['text'] = df['text'].apply(eos_to_sep)\n"
   ],
   "metadata": {
    "collapsed": false,
    "pycharm": {
     "name": "#%%\n"
    }
   }
  },
  {
   "cell_type": "code",
   "execution_count": 5,
   "outputs": [],
   "source": [
    "df['text_with_sep'] = df['text']"
   ],
   "metadata": {
    "collapsed": false,
    "pycharm": {
     "name": "#%%\n"
    }
   }
  },
  {
   "cell_type": "code",
   "execution_count": 6,
   "outputs": [],
   "source": [
    "df.to_csv(amazon_path + 'data.csv', index=False)"
   ],
   "metadata": {
    "collapsed": false,
    "pycharm": {
     "name": "#%%\n"
    }
   }
  },
  {
   "cell_type": "markdown",
   "source": [
    "## Create data of instruction in jsonl to Mistral"
   ],
   "metadata": {
    "collapsed": false,
    "pycharm": {
     "name": "#%% md\n"
    }
   }
  },
  {
   "cell_type": "code",
   "execution_count": 6,
   "outputs": [],
   "source": [
    "import pandas as pd\n",
    "import os"
   ],
   "metadata": {
    "collapsed": false,
    "pycharm": {
     "name": "#%%\n"
    }
   }
  },
  {
   "cell_type": "code",
   "execution_count": 12,
   "outputs": [],
   "source": [
    "data_path = './Data/new_humor_datasets/balanced'\n",
    "datasets = ['amazon', 'dadjokes', 'headlines', 'one_liners', 'yelp_reviews']"
   ],
   "metadata": {
    "collapsed": false,
    "pycharm": {
     "name": "#%%\n"
    }
   }
  },
  {
   "cell_type": "code",
   "execution_count": 13,
   "outputs": [],
   "source": [
    "dataset = 'amazon'\n",
    "full_path = os.path.join(data_path, dataset, 'data.csv')\n",
    "df = pd.read_csv(f'{data_path}/{dataset}/data.csv')\n"
   ],
   "metadata": {
    "collapsed": false,
    "pycharm": {
     "name": "#%%\n"
    }
   }
  },
  {
   "cell_type": "code",
   "execution_count": 22,
   "outputs": [],
   "source": [
    "prompt_template = \"Below is an instruction that describes a task, paired with a text sample. Write a response that\" \\\n",
    "                  \"appropriately completes the request.\\n\" \\\n",
    "                  \"<instruction>\\n\" \\\n",
    "                  \"You are tasked with determining whether a given text is funny or not funny. The text could be a news headline, an Amazon product description and related question, a Yelp review, a one-liner joke, or any other short piece of text. Your goal is to analyze the text and decide if it's intended to be humorous.\\n\" \\\n",
    "                  \"</instruction>\\n\\n\" \\\n",
    "                  \"<text>\\n\" \\\n",
    "                  \"{TEXT}\\n\" \\\n",
    "                  \"</text>\\n\\n\" \\\n",
    "                  \"To determine if the text is funny, consider the following guidelines:\\n\" \\\n",
    "                  \"1. Look for unexpected twists or surprises in the text\\n\" \\\n",
    "                  \"2. Check for wordplay, puns, or clever use of language\\n\" \\\n",
    "                  \"3. Identify any absurd or exaggerated elements\\n\" \\\n",
    "                  \"4. Consider if the text subverts expectations or common assumptions\\n\" \\\n",
    "                  \"5. Assess whether the text aims to amuse or entertain rather than inform\\n\\n\" \\\n",
    "                  \"Analyze the text carefully, keeping these guidelines in mind. Then, make a final classification on whether the text is funny or not funny. You don't need to provide your reasoning for why you believe the text is either funny or not funny. Write your classification as either 'funny' or 'not funny' inside <classification> tags.\\n\\n\\n\" \\\n",
    "                  \"Remember, humor can be subjective, so focus on whether the text appears to be intentionally crafted to be amusing or entertaining, rather than on whether you personally find it funny.\\n\" \\\n",
    "                  \"Use HTML tags in your response.\\nDo not add any words after </classification>.\""
   ],
   "metadata": {
    "collapsed": false,
    "pycharm": {
     "name": "#%%\n"
    }
   }
  },
  {
   "cell_type": "code",
   "execution_count": 23,
   "outputs": [],
   "source": [
    "output_template = \"<classification>\\n{OUTPUT}\\n</classification>\""
   ],
   "metadata": {
    "collapsed": false,
    "pycharm": {
     "name": "#%%\n"
    }
   }
  },
  {
   "cell_type": "code",
   "execution_count": 18,
   "outputs": [
    {
     "data": {
      "text/plain": "{'messages': [{'role': 'system', 'content': 'You are a helpful assistant'},\n  {'role': 'user',\n   'content': 'Below is an instruction that describes a task, paired with a text sample. Write a response that appropriately completes the request.\\n{INPUT}'},\n  {'role': 'assistant',\n   'content': '<classification>\\n{OUTPUT}\\n</classification>'}]}"
     },
     "execution_count": 18,
     "metadata": {},
     "output_type": "execute_result"
    }
   ],
   "source": [
    "{\"messages\": [\n",
    "{\"role\": \"system\", \"content\": \"You are a helpful assistant\"},\n",
    "{\"role\": \"user\", \"content\": \"{INPUT}\"},\n",
    " {\"role\": \"assistant\", \"content\": \"<classification>\\n{OUTPUT}\\n</classification>\"}\n",
    " ]}"
   ],
   "metadata": {
    "collapsed": false,
    "pycharm": {
     "name": "#%%\n"
    }
   }
  },
  {
   "cell_type": "code",
   "execution_count": 24,
   "outputs": [],
   "source": [
    "df_prompt = pd.DataFrame()\n",
    "df_prompt['text'] = df['text'].apply(lambda s: prompt_template.format(TEXT=s))\n",
    "df_prompt['output'] = df['target'].apply(lambda s: output_template.format(OUTPUT=s))"
   ],
   "metadata": {
    "collapsed": false,
    "pycharm": {
     "name": "#%%\n"
    }
   }
  },
  {
   "cell_type": "code",
   "execution_count": 27,
   "outputs": [],
   "source": [
    "# Create list of dictionaries\n",
    "system_list = []\n",
    "input_list = []\n",
    "output_list = []\n",
    "for i in range(len(df_prompt)):\n",
    "    system_list.append({\"role\": \"system\", \"content\": \"You are a helpful assistant\"})\n",
    "    input_list.append({\"role\": \"user\", \"content\": df_prompt.iloc[i]['text']})\n",
    "    output_list.append({\"role\": \"assistant\", \"content\": df_prompt.iloc[i]['output']})"
   ],
   "metadata": {
    "collapsed": false,
    "pycharm": {
     "name": "#%%\n"
    }
   }
  },
  {
   "cell_type": "code",
   "execution_count": 29,
   "outputs": [],
   "source": [
    "assert len(system_list) == len(input_list) == len(output_list)\n",
    "messages_list = []\n",
    "for i in range(len(system_list)):\n",
    "    msg_dict = {\"messages\": [system_list[i], input_list[i], output_list[i]]}\n",
    "    messages_list.append(msg_dict)"
   ],
   "metadata": {
    "collapsed": false,
    "pycharm": {
     "name": "#%%\n"
    }
   }
  },
  {
   "cell_type": "code",
   "execution_count": 30,
   "outputs": [],
   "source": [
    "import json\n",
    "json_filepath = f'{data_path}/{dataset}/data_json.jsonl'\n",
    "with open(json_filepath, 'w') as f:\n",
    "    for d in messages_list:\n",
    "        json.dump(d, f)\n",
    "        f.write('\\n')"
   ],
   "metadata": {
    "collapsed": false,
    "pycharm": {
     "name": "#%%\n"
    }
   }
  },
  {
   "cell_type": "code",
   "execution_count": null,
   "outputs": [],
   "source": [],
   "metadata": {
    "collapsed": false,
    "pycharm": {
     "name": "#%%\n"
    }
   }
  }
 ],
 "metadata": {
  "kernelspec": {
   "display_name": "Python 3",
   "language": "python",
   "name": "python3"
  },
  "language_info": {
   "codemirror_mode": {
    "name": "ipython",
    "version": 2
   },
   "file_extension": ".py",
   "mimetype": "text/x-python",
   "name": "python",
   "nbconvert_exporter": "python",
   "pygments_lexer": "ipython2",
   "version": "2.7.6"
  }
 },
 "nbformat": 4,
 "nbformat_minor": 0
}